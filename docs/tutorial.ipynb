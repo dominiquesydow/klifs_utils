{
 "cells": [
  {
   "cell_type": "markdown",
   "metadata": {},
   "source": [
    "# Quick start `klifs_utils` - work with KLIFS data"
   ]
  },
  {
   "cell_type": "code",
   "execution_count": 1,
   "metadata": {},
   "outputs": [],
   "source": [
    "%load_ext autoreload\n",
    "%autoreload 2"
   ]
  },
  {
   "cell_type": "code",
   "execution_count": 2,
   "metadata": {},
   "outputs": [],
   "source": [
    "from pathlib import Path\n",
    "\n",
    "import pandas as pd\n",
    "from rdkit.Chem import Draw\n",
    "from rdkit.Chem.Draw import IPythonConsole"
   ]
  },
  {
   "cell_type": "code",
   "execution_count": 3,
   "metadata": {},
   "outputs": [],
   "source": [
    "import klifs_utils as klifs"
   ]
  },
  {
   "cell_type": "markdown",
   "metadata": {},
   "source": [
    "## Remote data"
   ]
  },
  {
   "cell_type": "markdown",
   "metadata": {},
   "source": [
    "### Kinases"
   ]
  },
  {
   "cell_type": "code",
   "execution_count": 4,
   "metadata": {},
   "outputs": [
    {
     "data": {
      "text/plain": [
       "['AGC', 'CAMK', 'CK1', 'CMGC', 'Other', 'STE', 'TK', 'TKL']"
      ]
     },
     "execution_count": 4,
     "metadata": {},
     "output_type": "execute_result"
    }
   ],
   "source": [
    "klifs.remote.kinases.kinase_groups()"
   ]
  },
  {
   "cell_type": "code",
   "execution_count": 5,
   "metadata": {},
   "outputs": [
    {
     "data": {
      "text/plain": [
       "['CDK', 'CDKL', 'CK2', 'CLK', 'DYRK', 'GSK', 'MAPK', 'RCK', 'SRPK']"
      ]
     },
     "execution_count": 5,
     "metadata": {},
     "output_type": "execute_result"
    }
   ],
   "source": [
    "klifs.remote.kinases.kinase_families(kinase_group='CMGC')"
   ]
  },
  {
   "cell_type": "code",
   "execution_count": 6,
   "metadata": {},
   "outputs": [
    {
     "data": {
      "text/plain": [
       "['A6', 'ABC1']"
      ]
     },
     "execution_count": 6,
     "metadata": {},
     "output_type": "execute_result"
    }
   ],
   "source": [
    "# Or get all kinase families\n",
    "klifs.remote.kinases.kinase_families()[:2]"
   ]
  },
  {
   "cell_type": "code",
   "execution_count": 7,
   "metadata": {},
   "outputs": [
    {
     "data": {
      "text/plain": [
       "144"
      ]
     },
     "execution_count": 7,
     "metadata": {},
     "output_type": "execute_result"
    }
   ],
   "source": [
    "len(klifs.remote.kinases.kinase_families())"
   ]
  },
  {
   "cell_type": "code",
   "execution_count": 8,
   "metadata": {},
   "outputs": [
    {
     "name": "stdout",
     "output_type": "stream",
     "text": [
      "1127\n"
     ]
    },
    {
     "data": {
      "text/html": [
       "<div>\n",
       "<style scoped>\n",
       "    .dataframe tbody tr th:only-of-type {\n",
       "        vertical-align: middle;\n",
       "    }\n",
       "\n",
       "    .dataframe tbody tr th {\n",
       "        vertical-align: top;\n",
       "    }\n",
       "\n",
       "    .dataframe thead th {\n",
       "        text-align: right;\n",
       "    }\n",
       "</style>\n",
       "<table border=\"1\" class=\"dataframe\">\n",
       "  <thead>\n",
       "    <tr style=\"text-align: right;\">\n",
       "      <th></th>\n",
       "      <th>kinase_ID</th>\n",
       "      <th>name</th>\n",
       "      <th>full_name</th>\n",
       "      <th>species</th>\n",
       "    </tr>\n",
       "  </thead>\n",
       "  <tbody>\n",
       "    <tr>\n",
       "      <th>0</th>\n",
       "      <td>813</td>\n",
       "      <td>4921509C19Rik</td>\n",
       "      <td>RIKEN cDNA 4921509C19 gene</td>\n",
       "      <td>Mouse</td>\n",
       "    </tr>\n",
       "    <tr>\n",
       "      <th>1</th>\n",
       "      <td>815</td>\n",
       "      <td>4921509C19Rik</td>\n",
       "      <td>RIKEN cDNA 4921509C19 gene</td>\n",
       "      <td>Mouse</td>\n",
       "    </tr>\n",
       "    <tr>\n",
       "      <th>2</th>\n",
       "      <td>814</td>\n",
       "      <td>4921509C19Rik</td>\n",
       "      <td>RIKEN cDNA 4921509C19 gene</td>\n",
       "      <td>Mouse</td>\n",
       "    </tr>\n",
       "    <tr>\n",
       "      <th>3</th>\n",
       "      <td>531</td>\n",
       "      <td>Aak1</td>\n",
       "      <td>AP2 associated kinase 1</td>\n",
       "      <td>Mouse</td>\n",
       "    </tr>\n",
       "    <tr>\n",
       "      <th>4</th>\n",
       "      <td>277</td>\n",
       "      <td>AAK1</td>\n",
       "      <td>AP2 associated kinase 1</td>\n",
       "      <td>Human</td>\n",
       "    </tr>\n",
       "  </tbody>\n",
       "</table>\n",
       "</div>"
      ],
      "text/plain": [
       "   kinase_ID           name                   full_name species\n",
       "0        813  4921509C19Rik  RIKEN cDNA 4921509C19 gene   Mouse\n",
       "1        815  4921509C19Rik  RIKEN cDNA 4921509C19 gene   Mouse\n",
       "2        814  4921509C19Rik  RIKEN cDNA 4921509C19 gene   Mouse\n",
       "3        531           Aak1     AP2 associated kinase 1   Mouse\n",
       "4        277           AAK1     AP2 associated kinase 1   Human"
      ]
     },
     "execution_count": 8,
     "metadata": {},
     "output_type": "execute_result"
    }
   ],
   "source": [
    "print(len(klifs.remote.kinases.kinase_names()))\n",
    "klifs.remote.kinases.kinase_names().head()"
   ]
  },
  {
   "cell_type": "code",
   "execution_count": 9,
   "metadata": {},
   "outputs": [
    {
     "data": {
      "text/html": [
       "<div>\n",
       "<style scoped>\n",
       "    .dataframe tbody tr th:only-of-type {\n",
       "        vertical-align: middle;\n",
       "    }\n",
       "\n",
       "    .dataframe tbody tr th {\n",
       "        vertical-align: top;\n",
       "    }\n",
       "\n",
       "    .dataframe thead th {\n",
       "        text-align: right;\n",
       "    }\n",
       "</style>\n",
       "<table border=\"1\" class=\"dataframe\">\n",
       "  <thead>\n",
       "    <tr style=\"text-align: right;\">\n",
       "      <th></th>\n",
       "      <th>kinase_ID</th>\n",
       "      <th>name</th>\n",
       "      <th>HGNC</th>\n",
       "      <th>family</th>\n",
       "      <th>group</th>\n",
       "      <th>kinase_class</th>\n",
       "      <th>species</th>\n",
       "      <th>full_name</th>\n",
       "      <th>uniprot</th>\n",
       "      <th>iuphar</th>\n",
       "      <th>pocket</th>\n",
       "    </tr>\n",
       "  </thead>\n",
       "  <tbody>\n",
       "    <tr>\n",
       "      <th>0</th>\n",
       "      <td>531</td>\n",
       "      <td>AAK1</td>\n",
       "      <td>Aak1</td>\n",
       "      <td>NAK</td>\n",
       "      <td>Other</td>\n",
       "      <td></td>\n",
       "      <td>Mouse</td>\n",
       "      <td>AP2 associated kinase 1</td>\n",
       "      <td>Q3UHJ0</td>\n",
       "      <td>0</td>\n",
       "      <td>EVLAEGGFALVFLCALKRMVCKREIQIMRDLSKNIVGYIDSLILMD...</td>\n",
       "    </tr>\n",
       "    <tr>\n",
       "      <th>1</th>\n",
       "      <td>277</td>\n",
       "      <td>AAK1</td>\n",
       "      <td>AAK1</td>\n",
       "      <td>NAK</td>\n",
       "      <td>Other</td>\n",
       "      <td>BIKE</td>\n",
       "      <td>Human</td>\n",
       "      <td>AP2 associated kinase 1</td>\n",
       "      <td>Q2M2I8</td>\n",
       "      <td>1921</td>\n",
       "      <td>EVLAEGGFAIVFLCALKRMVCKREIQIMRDLSKNIVGYIDSLILMD...</td>\n",
       "    </tr>\n",
       "  </tbody>\n",
       "</table>\n",
       "</div>"
      ],
      "text/plain": [
       "   kinase_ID  name  HGNC family  group kinase_class species  \\\n",
       "0        531  AAK1  Aak1    NAK  Other                Mouse   \n",
       "1        277  AAK1  AAK1    NAK  Other         BIKE   Human   \n",
       "\n",
       "                 full_name uniprot  iuphar  \\\n",
       "0  AP2 associated kinase 1  Q3UHJ0       0   \n",
       "1  AP2 associated kinase 1  Q2M2I8    1921   \n",
       "\n",
       "                                              pocket  \n",
       "0  EVLAEGGFALVFLCALKRMVCKREIQIMRDLSKNIVGYIDSLILMD...  \n",
       "1  EVLAEGGFAIVFLCALKRMVCKREIQIMRDLSKNIVGYIDSLILMD...  "
      ]
     },
     "execution_count": 9,
     "metadata": {},
     "output_type": "execute_result"
    }
   ],
   "source": [
    "klifs.remote.kinases.kinases_from_kinase_names(kinase_names='Aak1')"
   ]
  },
  {
   "cell_type": "code",
   "execution_count": 10,
   "metadata": {},
   "outputs": [
    {
     "data": {
      "text/html": [
       "<div>\n",
       "<style scoped>\n",
       "    .dataframe tbody tr th:only-of-type {\n",
       "        vertical-align: middle;\n",
       "    }\n",
       "\n",
       "    .dataframe tbody tr th {\n",
       "        vertical-align: top;\n",
       "    }\n",
       "\n",
       "    .dataframe thead th {\n",
       "        text-align: right;\n",
       "    }\n",
       "</style>\n",
       "<table border=\"1\" class=\"dataframe\">\n",
       "  <thead>\n",
       "    <tr style=\"text-align: right;\">\n",
       "      <th></th>\n",
       "      <th>kinase_ID</th>\n",
       "      <th>name</th>\n",
       "      <th>HGNC</th>\n",
       "      <th>family</th>\n",
       "      <th>group</th>\n",
       "      <th>kinase_class</th>\n",
       "      <th>species</th>\n",
       "      <th>full_name</th>\n",
       "      <th>uniprot</th>\n",
       "      <th>iuphar</th>\n",
       "      <th>pocket</th>\n",
       "    </tr>\n",
       "  </thead>\n",
       "  <tbody>\n",
       "    <tr>\n",
       "      <th>0</th>\n",
       "      <td>531</td>\n",
       "      <td>AAK1</td>\n",
       "      <td>Aak1</td>\n",
       "      <td>NAK</td>\n",
       "      <td>Other</td>\n",
       "      <td></td>\n",
       "      <td>Mouse</td>\n",
       "      <td>AP2 associated kinase 1</td>\n",
       "      <td>Q3UHJ0</td>\n",
       "      <td>0</td>\n",
       "      <td>EVLAEGGFALVFLCALKRMVCKREIQIMRDLSKNIVGYIDSLILMD...</td>\n",
       "    </tr>\n",
       "    <tr>\n",
       "      <th>1</th>\n",
       "      <td>277</td>\n",
       "      <td>AAK1</td>\n",
       "      <td>AAK1</td>\n",
       "      <td>NAK</td>\n",
       "      <td>Other</td>\n",
       "      <td>BIKE</td>\n",
       "      <td>Human</td>\n",
       "      <td>AP2 associated kinase 1</td>\n",
       "      <td>Q2M2I8</td>\n",
       "      <td>1921</td>\n",
       "      <td>EVLAEGGFAIVFLCALKRMVCKREIQIMRDLSKNIVGYIDSLILMD...</td>\n",
       "    </tr>\n",
       "    <tr>\n",
       "      <th>2</th>\n",
       "      <td>406</td>\n",
       "      <td>EGFR</td>\n",
       "      <td>EGFR</td>\n",
       "      <td>EGFR</td>\n",
       "      <td>TK</td>\n",
       "      <td></td>\n",
       "      <td>Human</td>\n",
       "      <td>epidermal growth factor receptor</td>\n",
       "      <td>P00533</td>\n",
       "      <td>1797</td>\n",
       "      <td>KVLGSGAFGTVYKVAIKELEILDEAYVMASVDPHVCRLLGIQLITQ...</td>\n",
       "    </tr>\n",
       "    <tr>\n",
       "      <th>3</th>\n",
       "      <td>663</td>\n",
       "      <td>EGFR</td>\n",
       "      <td>Egfr</td>\n",
       "      <td>EGFR</td>\n",
       "      <td>TK</td>\n",
       "      <td></td>\n",
       "      <td>Mouse</td>\n",
       "      <td>epidermal growth factor receptor</td>\n",
       "      <td>Q01279</td>\n",
       "      <td>0</td>\n",
       "      <td>KVLGSGAFGTVYKVAIKELEILDEAYVMASVDPHVCRLLGIQLITQ...</td>\n",
       "    </tr>\n",
       "  </tbody>\n",
       "</table>\n",
       "</div>"
      ],
      "text/plain": [
       "   kinase_ID  name  HGNC family  group kinase_class species  \\\n",
       "0        531  AAK1  Aak1    NAK  Other                Mouse   \n",
       "1        277  AAK1  AAK1    NAK  Other         BIKE   Human   \n",
       "2        406  EGFR  EGFR   EGFR     TK                Human   \n",
       "3        663  EGFR  Egfr   EGFR     TK                Mouse   \n",
       "\n",
       "                          full_name uniprot  iuphar  \\\n",
       "0           AP2 associated kinase 1  Q3UHJ0       0   \n",
       "1           AP2 associated kinase 1  Q2M2I8    1921   \n",
       "2  epidermal growth factor receptor  P00533    1797   \n",
       "3  epidermal growth factor receptor  Q01279       0   \n",
       "\n",
       "                                              pocket  \n",
       "0  EVLAEGGFALVFLCALKRMVCKREIQIMRDLSKNIVGYIDSLILMD...  \n",
       "1  EVLAEGGFAIVFLCALKRMVCKREIQIMRDLSKNIVGYIDSLILMD...  \n",
       "2  KVLGSGAFGTVYKVAIKELEILDEAYVMASVDPHVCRLLGIQLITQ...  \n",
       "3  KVLGSGAFGTVYKVAIKELEILDEAYVMASVDPHVCRLLGIQLITQ...  "
      ]
     },
     "execution_count": 10,
     "metadata": {},
     "output_type": "execute_result"
    }
   ],
   "source": [
    "klifs.remote.kinases.kinases_from_kinase_names(kinase_names=['Aak1', 'EGFR'])"
   ]
  },
  {
   "cell_type": "code",
   "execution_count": 11,
   "metadata": {},
   "outputs": [
    {
     "data": {
      "text/html": [
       "<div>\n",
       "<style scoped>\n",
       "    .dataframe tbody tr th:only-of-type {\n",
       "        vertical-align: middle;\n",
       "    }\n",
       "\n",
       "    .dataframe tbody tr th {\n",
       "        vertical-align: top;\n",
       "    }\n",
       "\n",
       "    .dataframe thead th {\n",
       "        text-align: right;\n",
       "    }\n",
       "</style>\n",
       "<table border=\"1\" class=\"dataframe\">\n",
       "  <thead>\n",
       "    <tr style=\"text-align: right;\">\n",
       "      <th></th>\n",
       "      <th>kinase_ID</th>\n",
       "      <th>name</th>\n",
       "      <th>HGNC</th>\n",
       "      <th>family</th>\n",
       "      <th>group</th>\n",
       "      <th>kinase_class</th>\n",
       "      <th>species</th>\n",
       "      <th>full_name</th>\n",
       "      <th>uniprot</th>\n",
       "      <th>iuphar</th>\n",
       "      <th>pocket</th>\n",
       "    </tr>\n",
       "  </thead>\n",
       "  <tbody>\n",
       "    <tr>\n",
       "      <th>0</th>\n",
       "      <td>533</td>\n",
       "      <td>ACK</td>\n",
       "      <td>Tnk2</td>\n",
       "      <td>Ack</td>\n",
       "      <td>TK</td>\n",
       "      <td></td>\n",
       "      <td>Mouse</td>\n",
       "      <td>tyrosine kinase, non-receptor, 2</td>\n",
       "      <td>O54967</td>\n",
       "      <td>0</td>\n",
       "      <td>EKLGDGSFGVVRRVAVKCLDFIREVNAMHSLDRNLIRLYGVKMVTE...</td>\n",
       "    </tr>\n",
       "  </tbody>\n",
       "</table>\n",
       "</div>"
      ],
      "text/plain": [
       "   kinase_ID name  HGNC family group kinase_class species  \\\n",
       "0        533  ACK  Tnk2    Ack    TK                Mouse   \n",
       "\n",
       "                          full_name uniprot  iuphar  \\\n",
       "0  tyrosine kinase, non-receptor, 2  O54967       0   \n",
       "\n",
       "                                              pocket  \n",
       "0  EKLGDGSFGVVRRVAVKCLDFIREVNAMHSLDRNLIRLYGVKMVTE...  "
      ]
     },
     "execution_count": 11,
     "metadata": {},
     "output_type": "execute_result"
    }
   ],
   "source": [
    "klifs.remote.kinases.kinases_from_kinase_ids(kinase_ids=533)"
   ]
  },
  {
   "cell_type": "code",
   "execution_count": 12,
   "metadata": {},
   "outputs": [
    {
     "data": {
      "text/html": [
       "<div>\n",
       "<style scoped>\n",
       "    .dataframe tbody tr th:only-of-type {\n",
       "        vertical-align: middle;\n",
       "    }\n",
       "\n",
       "    .dataframe tbody tr th {\n",
       "        vertical-align: top;\n",
       "    }\n",
       "\n",
       "    .dataframe thead th {\n",
       "        text-align: right;\n",
       "    }\n",
       "</style>\n",
       "<table border=\"1\" class=\"dataframe\">\n",
       "  <thead>\n",
       "    <tr style=\"text-align: right;\">\n",
       "      <th></th>\n",
       "      <th>kinase_ID</th>\n",
       "      <th>name</th>\n",
       "      <th>HGNC</th>\n",
       "      <th>family</th>\n",
       "      <th>group</th>\n",
       "      <th>kinase_class</th>\n",
       "      <th>species</th>\n",
       "      <th>full_name</th>\n",
       "      <th>uniprot</th>\n",
       "      <th>iuphar</th>\n",
       "      <th>pocket</th>\n",
       "    </tr>\n",
       "  </thead>\n",
       "  <tbody>\n",
       "    <tr>\n",
       "      <th>0</th>\n",
       "      <td>533</td>\n",
       "      <td>ACK</td>\n",
       "      <td>Tnk2</td>\n",
       "      <td>Ack</td>\n",
       "      <td>TK</td>\n",
       "      <td></td>\n",
       "      <td>Mouse</td>\n",
       "      <td>tyrosine kinase, non-receptor, 2</td>\n",
       "      <td>O54967</td>\n",
       "      <td>0</td>\n",
       "      <td>EKLGDGSFGVVRRVAVKCLDFIREVNAMHSLDRNLIRLYGVKMVTE...</td>\n",
       "    </tr>\n",
       "    <tr>\n",
       "      <th>0</th>\n",
       "      <td>531</td>\n",
       "      <td>AAK1</td>\n",
       "      <td>Aak1</td>\n",
       "      <td>NAK</td>\n",
       "      <td>Other</td>\n",
       "      <td></td>\n",
       "      <td>Mouse</td>\n",
       "      <td>AP2 associated kinase 1</td>\n",
       "      <td>Q3UHJ0</td>\n",
       "      <td>0</td>\n",
       "      <td>EVLAEGGFALVFLCALKRMVCKREIQIMRDLSKNIVGYIDSLILMD...</td>\n",
       "    </tr>\n",
       "  </tbody>\n",
       "</table>\n",
       "</div>"
      ],
      "text/plain": [
       "   kinase_ID  name  HGNC family  group kinase_class species  \\\n",
       "0        533   ACK  Tnk2    Ack     TK                Mouse   \n",
       "0        531  AAK1  Aak1    NAK  Other                Mouse   \n",
       "\n",
       "                          full_name uniprot  iuphar  \\\n",
       "0  tyrosine kinase, non-receptor, 2  O54967       0   \n",
       "0           AP2 associated kinase 1  Q3UHJ0       0   \n",
       "\n",
       "                                              pocket  \n",
       "0  EKLGDGSFGVVRRVAVKCLDFIREVNAMHSLDRNLIRLYGVKMVTE...  \n",
       "0  EVLAEGGFALVFLCALKRMVCKREIQIMRDLSKNIVGYIDSLILMD...  "
      ]
     },
     "execution_count": 12,
     "metadata": {},
     "output_type": "execute_result"
    }
   ],
   "source": [
    "klifs.remote.kinases.kinases_from_kinase_ids(kinase_ids=[533, 531])"
   ]
  },
  {
   "cell_type": "markdown",
   "metadata": {},
   "source": [
    "### Ligands"
   ]
  },
  {
   "cell_type": "code",
   "execution_count": 13,
   "metadata": {},
   "outputs": [
    {
     "data": {
      "text/html": [
       "<div>\n",
       "<style scoped>\n",
       "    .dataframe tbody tr th:only-of-type {\n",
       "        vertical-align: middle;\n",
       "    }\n",
       "\n",
       "    .dataframe tbody tr th {\n",
       "        vertical-align: top;\n",
       "    }\n",
       "\n",
       "    .dataframe thead th {\n",
       "        text-align: right;\n",
       "    }\n",
       "</style>\n",
       "<table border=\"1\" class=\"dataframe\">\n",
       "  <thead>\n",
       "    <tr style=\"text-align: right;\">\n",
       "      <th></th>\n",
       "      <th>kinase_id</th>\n",
       "      <th>ligand_ID</th>\n",
       "      <th>PDB-code</th>\n",
       "      <th>Name</th>\n",
       "      <th>SMILES</th>\n",
       "      <th>InChIKey</th>\n",
       "    </tr>\n",
       "  </thead>\n",
       "  <tbody>\n",
       "    <tr>\n",
       "      <th>0</th>\n",
       "      <td>33</td>\n",
       "      <td>920</td>\n",
       "      <td>LW4</td>\n",
       "      <td>3-(1H-indol-3-yl)-4-[2-(4-methylpiperazin-1-yl...</td>\n",
       "      <td>O=C1NC(=O)C(=C1c2nc(nc3c2cccc3)N4CCN(CC4)C)C=5...</td>\n",
       "      <td>OAVGBZOFDPFGPJ-UHFFFAOYSA-N</td>\n",
       "    </tr>\n",
       "    <tr>\n",
       "      <th>1</th>\n",
       "      <td>33</td>\n",
       "      <td>921</td>\n",
       "      <td>3KZ</td>\n",
       "      <td>(1R)-9-[(3S,4S)-1,3-dimethylpiperidin-4-yl]-8-...</td>\n",
       "      <td>Fc1c(c2c(cc3N4C(=NNC(=O)[C@H]4C)COc3c2)[C@@H]5...</td>\n",
       "      <td>BLWOBXIQFDYTRF-OAGGEKHMSA-N</td>\n",
       "    </tr>\n",
       "    <tr>\n",
       "      <th>0</th>\n",
       "      <td>40</td>\n",
       "      <td>26</td>\n",
       "      <td>ADP</td>\n",
       "      <td>ADENOSINE-5&amp;apos;-DIPHOSPHATE</td>\n",
       "      <td>P(=O)(OP(=O)(O)O)(OC[C@H]1O[C@@H](N2c3ncnc(N)c...</td>\n",
       "      <td>XTWYTFMLZFPYCI-KQYNXXCUSA-N</td>\n",
       "    </tr>\n",
       "    <tr>\n",
       "      <th>1</th>\n",
       "      <td>40</td>\n",
       "      <td>63</td>\n",
       "      <td>ATP</td>\n",
       "      <td>ADENOSINE-5&amp;apos;-TRIPHOSPHATE</td>\n",
       "      <td>P(=O)(OP(=O)(OC[C@H]1O[C@@H](N2c3ncnc(N)c3N=C2...</td>\n",
       "      <td>ZKHQWZAMYRWXGA-KQYNXXCUSA-N</td>\n",
       "    </tr>\n",
       "    <tr>\n",
       "      <th>2</th>\n",
       "      <td>40</td>\n",
       "      <td>64</td>\n",
       "      <td>ANP</td>\n",
       "      <td>PHOSPHOAMINOPHOSPHONIC ACID-ADENYLATE ESTER</td>\n",
       "      <td>P(=O)(OP(=O)(O)NP(=O)(O)O)(OC[C@H]1O[C@@H](N2c...</td>\n",
       "      <td>PVKSNHVPLWYQGJ-KQYNXXCUSA-N</td>\n",
       "    </tr>\n",
       "    <tr>\n",
       "      <th>3</th>\n",
       "      <td>40</td>\n",
       "      <td>160</td>\n",
       "      <td>ACP</td>\n",
       "      <td>PHOSPHOMETHYLPHOSPHONIC ACID ADENYLATE ESTER</td>\n",
       "      <td>P(=O)(OP(=O)(O)CP(=O)(O)O)(OC[C@H]1O[C@@H](N2c...</td>\n",
       "      <td>UFZTZBNSLXELAL-IOSLPCCCSA-N</td>\n",
       "    </tr>\n",
       "    <tr>\n",
       "      <th>4</th>\n",
       "      <td>40</td>\n",
       "      <td>677</td>\n",
       "      <td>BI1</td>\n",
       "      <td>3-{1-[3-(DIMETHYLAMINO)PROPYL]-1H-INDOL-3-YL}-...</td>\n",
       "      <td>O=C1NC(=O)C(C=2c3c(NC2)cccc3)=C1C=4c5c(N(C4)CC...</td>\n",
       "      <td>QMGUOJYZJKLOLH-UHFFFAOYSA-N</td>\n",
       "    </tr>\n",
       "    <tr>\n",
       "      <th>5</th>\n",
       "      <td>40</td>\n",
       "      <td>1028</td>\n",
       "      <td>C58</td>\n",
       "      <td>(2S)-3-phenyl-N~1~-[2-(pyridin-4-yl)-5,6,7,8-t...</td>\n",
       "      <td>S1c2nc(nc(NC[C@@H](N)Cc3ccccc3)c2C4=C1CCCC4)c5...</td>\n",
       "      <td>NRHASZRDWOUMFD-SFHVURJKSA-N</td>\n",
       "    </tr>\n",
       "    <tr>\n",
       "      <th>6</th>\n",
       "      <td>40</td>\n",
       "      <td>3444</td>\n",
       "      <td>AFU</td>\n",
       "      <td>2-amino-5-[3-(piperazin-1-yl)phenyl]-N-(pyridi...</td>\n",
       "      <td>c1cc(cc(c1)N2CCNCC2)c3cc(c(nc3)N)C(=O)Nc4ccncc4</td>\n",
       "      <td>YDMJAALVMGFGRY-UHFFFAOYSA-N</td>\n",
       "    </tr>\n",
       "  </tbody>\n",
       "</table>\n",
       "</div>"
      ],
      "text/plain": [
       "   kinase_id  ligand_ID PDB-code  \\\n",
       "0         33        920      LW4   \n",
       "1         33        921      3KZ   \n",
       "0         40         26      ADP   \n",
       "1         40         63      ATP   \n",
       "2         40         64      ANP   \n",
       "3         40        160      ACP   \n",
       "4         40        677      BI1   \n",
       "5         40       1028      C58   \n",
       "6         40       3444      AFU   \n",
       "\n",
       "                                                Name  \\\n",
       "0  3-(1H-indol-3-yl)-4-[2-(4-methylpiperazin-1-yl...   \n",
       "1  (1R)-9-[(3S,4S)-1,3-dimethylpiperidin-4-yl]-8-...   \n",
       "0                      ADENOSINE-5&apos;-DIPHOSPHATE   \n",
       "1                     ADENOSINE-5&apos;-TRIPHOSPHATE   \n",
       "2        PHOSPHOAMINOPHOSPHONIC ACID-ADENYLATE ESTER   \n",
       "3       PHOSPHOMETHYLPHOSPHONIC ACID ADENYLATE ESTER   \n",
       "4  3-{1-[3-(DIMETHYLAMINO)PROPYL]-1H-INDOL-3-YL}-...   \n",
       "5  (2S)-3-phenyl-N~1~-[2-(pyridin-4-yl)-5,6,7,8-t...   \n",
       "6  2-amino-5-[3-(piperazin-1-yl)phenyl]-N-(pyridi...   \n",
       "\n",
       "                                              SMILES  \\\n",
       "0  O=C1NC(=O)C(=C1c2nc(nc3c2cccc3)N4CCN(CC4)C)C=5...   \n",
       "1  Fc1c(c2c(cc3N4C(=NNC(=O)[C@H]4C)COc3c2)[C@@H]5...   \n",
       "0  P(=O)(OP(=O)(O)O)(OC[C@H]1O[C@@H](N2c3ncnc(N)c...   \n",
       "1  P(=O)(OP(=O)(OC[C@H]1O[C@@H](N2c3ncnc(N)c3N=C2...   \n",
       "2  P(=O)(OP(=O)(O)NP(=O)(O)O)(OC[C@H]1O[C@@H](N2c...   \n",
       "3  P(=O)(OP(=O)(O)CP(=O)(O)O)(OC[C@H]1O[C@@H](N2c...   \n",
       "4  O=C1NC(=O)C(C=2c3c(NC2)cccc3)=C1C=4c5c(N(C4)CC...   \n",
       "5  S1c2nc(nc(NC[C@@H](N)Cc3ccccc3)c2C4=C1CCCC4)c5...   \n",
       "6    c1cc(cc(c1)N2CCNCC2)c3cc(c(nc3)N)C(=O)Nc4ccncc4   \n",
       "\n",
       "                      InChIKey  \n",
       "0  OAVGBZOFDPFGPJ-UHFFFAOYSA-N  \n",
       "1  BLWOBXIQFDYTRF-OAGGEKHMSA-N  \n",
       "0  XTWYTFMLZFPYCI-KQYNXXCUSA-N  \n",
       "1  ZKHQWZAMYRWXGA-KQYNXXCUSA-N  \n",
       "2  PVKSNHVPLWYQGJ-KQYNXXCUSA-N  \n",
       "3  UFZTZBNSLXELAL-IOSLPCCCSA-N  \n",
       "4  QMGUOJYZJKLOLH-UHFFFAOYSA-N  \n",
       "5  NRHASZRDWOUMFD-SFHVURJKSA-N  \n",
       "6  YDMJAALVMGFGRY-UHFFFAOYSA-N  "
      ]
     },
     "execution_count": 13,
     "metadata": {},
     "output_type": "execute_result"
    }
   ],
   "source": [
    "klifs.remote.ligands.ligands_from_kinase_ids(kinase_ids=[33, 40])"
   ]
  },
  {
   "cell_type": "code",
   "execution_count": 14,
   "metadata": {},
   "outputs": [
    {
     "data": {
      "text/plain": [
       "Index(['ligand_id', 'structure_ID', 'kinase', 'species', 'kinase_ID', 'pdb',\n",
       "       'alt', 'chain', 'rmsd1', 'rmsd2', 'pocket', 'resolution',\n",
       "       'quality_score', 'missing_residues', 'missing_atoms', 'ligand',\n",
       "       'allosteric_ligand', 'DFG', 'aC_helix', 'Grich_distance', 'Grich_angle',\n",
       "       'Grich_rotation', 'front', 'gate', 'back', 'fp_I', 'fp_II', 'bp_I_A',\n",
       "       'bp_I_B', 'bp_II_in', 'bp_II_A_in', 'bp_II_B_in', 'bp_II_out',\n",
       "       'bp_II_B', 'bp_III', 'bp_IV', 'bp_V'],\n",
       "      dtype='object')"
      ]
     },
     "execution_count": 14,
     "metadata": {},
     "output_type": "execute_result"
    }
   ],
   "source": [
    "klifs.remote.ligands.structures_from_ligand_ids(ligand_ids=[101, 920]).columns"
   ]
  },
  {
   "cell_type": "markdown",
   "metadata": {},
   "source": [
    "### Interactions"
   ]
  },
  {
   "cell_type": "markdown",
   "metadata": {},
   "source": [
    "#### Interaction types"
   ]
  },
  {
   "cell_type": "code",
   "execution_count": 15,
   "metadata": {},
   "outputs": [
    {
     "data": {
      "text/html": [
       "<div>\n",
       "<style scoped>\n",
       "    .dataframe tbody tr th:only-of-type {\n",
       "        vertical-align: middle;\n",
       "    }\n",
       "\n",
       "    .dataframe tbody tr th {\n",
       "        vertical-align: top;\n",
       "    }\n",
       "\n",
       "    .dataframe thead th {\n",
       "        text-align: right;\n",
       "    }\n",
       "</style>\n",
       "<table border=\"1\" class=\"dataframe\">\n",
       "  <thead>\n",
       "    <tr style=\"text-align: right;\">\n",
       "      <th></th>\n",
       "      <th>position</th>\n",
       "      <th>name</th>\n",
       "    </tr>\n",
       "  </thead>\n",
       "  <tbody>\n",
       "    <tr>\n",
       "      <th>0</th>\n",
       "      <td>1</td>\n",
       "      <td>Apolar contact</td>\n",
       "    </tr>\n",
       "    <tr>\n",
       "      <th>1</th>\n",
       "      <td>2</td>\n",
       "      <td>Aromatic face-to-face</td>\n",
       "    </tr>\n",
       "    <tr>\n",
       "      <th>2</th>\n",
       "      <td>3</td>\n",
       "      <td>Aromatic edge-to-face</td>\n",
       "    </tr>\n",
       "    <tr>\n",
       "      <th>3</th>\n",
       "      <td>4</td>\n",
       "      <td>Hydrogen bond donor (protein)</td>\n",
       "    </tr>\n",
       "    <tr>\n",
       "      <th>4</th>\n",
       "      <td>5</td>\n",
       "      <td>Hydrogen bond acceptor (protein)</td>\n",
       "    </tr>\n",
       "    <tr>\n",
       "      <th>5</th>\n",
       "      <td>6</td>\n",
       "      <td>Protein cation - ligand anion</td>\n",
       "    </tr>\n",
       "    <tr>\n",
       "      <th>6</th>\n",
       "      <td>7</td>\n",
       "      <td>Protein anion - ligand cation</td>\n",
       "    </tr>\n",
       "  </tbody>\n",
       "</table>\n",
       "</div>"
      ],
      "text/plain": [
       "  position                              name\n",
       "0        1                    Apolar contact\n",
       "1        2             Aromatic face-to-face\n",
       "2        3             Aromatic edge-to-face\n",
       "3        4     Hydrogen bond donor (protein)\n",
       "4        5  Hydrogen bond acceptor (protein)\n",
       "5        6     Protein cation - ligand anion\n",
       "6        7     Protein anion - ligand cation"
      ]
     },
     "execution_count": 15,
     "metadata": {},
     "output_type": "execute_result"
    }
   ],
   "source": [
    "klifs.remote.interactions.interaction_types()"
   ]
  },
  {
   "cell_type": "markdown",
   "metadata": {},
   "source": [
    "#### Interaction fingerprints by structure IDs"
   ]
  },
  {
   "cell_type": "code",
   "execution_count": 16,
   "metadata": {},
   "outputs": [
    {
     "data": {
      "text/html": [
       "<div>\n",
       "<style scoped>\n",
       "    .dataframe tbody tr th:only-of-type {\n",
       "        vertical-align: middle;\n",
       "    }\n",
       "\n",
       "    .dataframe tbody tr th {\n",
       "        vertical-align: top;\n",
       "    }\n",
       "\n",
       "    .dataframe thead th {\n",
       "        text-align: right;\n",
       "    }\n",
       "</style>\n",
       "<table border=\"1\" class=\"dataframe\">\n",
       "  <thead>\n",
       "    <tr style=\"text-align: right;\">\n",
       "      <th></th>\n",
       "      <th>structure_ID</th>\n",
       "      <th>IFP</th>\n",
       "    </tr>\n",
       "  </thead>\n",
       "  <tbody>\n",
       "    <tr>\n",
       "      <th>0</th>\n",
       "      <td>33</td>\n",
       "      <td>0000000000000010000001000000000000000000000000...</td>\n",
       "    </tr>\n",
       "    <tr>\n",
       "      <th>1</th>\n",
       "      <td>34</td>\n",
       "      <td>0000000000000010000000000000000000000000000000...</td>\n",
       "    </tr>\n",
       "    <tr>\n",
       "      <th>2</th>\n",
       "      <td>35</td>\n",
       "      <td>0000000000000010000001000000000000000000000000...</td>\n",
       "    </tr>\n",
       "  </tbody>\n",
       "</table>\n",
       "</div>"
      ],
      "text/plain": [
       "   structure_ID                                                IFP\n",
       "0            33  0000000000000010000001000000000000000000000000...\n",
       "1            34  0000000000000010000000000000000000000000000000...\n",
       "2            35  0000000000000010000001000000000000000000000000..."
      ]
     },
     "execution_count": 16,
     "metadata": {},
     "output_type": "execute_result"
    }
   ],
   "source": [
    "klifs.remote.interactions.interaction_fingerprint_from_structure_ids(structure_ids=[33, 34, 35])"
   ]
  },
  {
   "cell_type": "markdown",
   "metadata": {},
   "source": [
    "#### KLIFS pocket numbering"
   ]
  },
  {
   "cell_type": "code",
   "execution_count": 17,
   "metadata": {},
   "outputs": [
    {
     "data": {
      "text/html": [
       "<div>\n",
       "<style scoped>\n",
       "    .dataframe tbody tr th:only-of-type {\n",
       "        vertical-align: middle;\n",
       "    }\n",
       "\n",
       "    .dataframe tbody tr th {\n",
       "        vertical-align: top;\n",
       "    }\n",
       "\n",
       "    .dataframe thead th {\n",
       "        text-align: right;\n",
       "    }\n",
       "</style>\n",
       "<table border=\"1\" class=\"dataframe\">\n",
       "  <thead>\n",
       "    <tr style=\"text-align: right;\">\n",
       "      <th></th>\n",
       "      <th>index</th>\n",
       "      <th>Xray_position</th>\n",
       "      <th>KLIFS_position</th>\n",
       "    </tr>\n",
       "  </thead>\n",
       "  <tbody>\n",
       "    <tr>\n",
       "      <th>0</th>\n",
       "      <td>1</td>\n",
       "      <td>367</td>\n",
       "      <td>I.1</td>\n",
       "    </tr>\n",
       "    <tr>\n",
       "      <th>1</th>\n",
       "      <td>2</td>\n",
       "      <td>368</td>\n",
       "      <td>I.2</td>\n",
       "    </tr>\n",
       "    <tr>\n",
       "      <th>2</th>\n",
       "      <td>3</td>\n",
       "      <td>369</td>\n",
       "      <td>I.3</td>\n",
       "    </tr>\n",
       "    <tr>\n",
       "      <th>3</th>\n",
       "      <td>4</td>\n",
       "      <td>370</td>\n",
       "      <td>g.l.4</td>\n",
       "    </tr>\n",
       "    <tr>\n",
       "      <th>4</th>\n",
       "      <td>5</td>\n",
       "      <td>371</td>\n",
       "      <td>g.l.5</td>\n",
       "    </tr>\n",
       "    <tr>\n",
       "      <th>...</th>\n",
       "      <td>...</td>\n",
       "      <td>...</td>\n",
       "      <td>...</td>\n",
       "    </tr>\n",
       "    <tr>\n",
       "      <th>80</th>\n",
       "      <td>81</td>\n",
       "      <td>500</td>\n",
       "      <td>xDFG.81</td>\n",
       "    </tr>\n",
       "    <tr>\n",
       "      <th>81</th>\n",
       "      <td>82</td>\n",
       "      <td>_</td>\n",
       "      <td>xDFG.82</td>\n",
       "    </tr>\n",
       "    <tr>\n",
       "      <th>82</th>\n",
       "      <td>83</td>\n",
       "      <td>_</td>\n",
       "      <td>xDFG.83</td>\n",
       "    </tr>\n",
       "    <tr>\n",
       "      <th>83</th>\n",
       "      <td>84</td>\n",
       "      <td>_</td>\n",
       "      <td>a.l.84</td>\n",
       "    </tr>\n",
       "    <tr>\n",
       "      <th>84</th>\n",
       "      <td>85</td>\n",
       "      <td>_</td>\n",
       "      <td>a.l.85</td>\n",
       "    </tr>\n",
       "  </tbody>\n",
       "</table>\n",
       "<p>85 rows × 3 columns</p>\n",
       "</div>"
      ],
      "text/plain": [
       "    index Xray_position KLIFS_position\n",
       "0       1           367            I.1\n",
       "1       2           368            I.2\n",
       "2       3           369            I.3\n",
       "3       4           370          g.l.4\n",
       "4       5           371          g.l.5\n",
       "..    ...           ...            ...\n",
       "80     81           500        xDFG.81\n",
       "81     82             _        xDFG.82\n",
       "82     83             _        xDFG.83\n",
       "83     84             _         a.l.84\n",
       "84     85             _         a.l.85\n",
       "\n",
       "[85 rows x 3 columns]"
      ]
     },
     "execution_count": 17,
     "metadata": {},
     "output_type": "execute_result"
    }
   ],
   "source": [
    "klifs.remote.interactions.klifs_pocket_numbering_from_structure_id(structure_id=33)"
   ]
  },
  {
   "cell_type": "markdown",
   "metadata": {},
   "source": [
    "### Structures"
   ]
  },
  {
   "cell_type": "markdown",
   "metadata": {},
   "source": [
    "#### ... by KLIFS structure ID(s)"
   ]
  },
  {
   "cell_type": "code",
   "execution_count": 18,
   "metadata": {},
   "outputs": [
    {
     "data": {
      "text/plain": [
       "Index(['structure_ID', 'kinase', 'species', 'kinase_ID', 'pdb', 'alt', 'chain',\n",
       "       'rmsd1', 'rmsd2', 'pocket', 'resolution', 'quality_score',\n",
       "       'missing_residues', 'missing_atoms', 'ligand', 'allosteric_ligand',\n",
       "       'DFG', 'aC_helix', 'Grich_distance', 'Grich_angle', 'Grich_rotation',\n",
       "       'front', 'gate', 'back', 'fp_I', 'fp_II', 'bp_I_A', 'bp_I_B',\n",
       "       'bp_II_in', 'bp_II_A_in', 'bp_II_B_in', 'bp_II_out', 'bp_II_B',\n",
       "       'bp_III', 'bp_IV', 'bp_V'],\n",
       "      dtype='object')"
      ]
     },
     "execution_count": 18,
     "metadata": {},
     "output_type": "execute_result"
    }
   ],
   "source": [
    "klifs.remote.structures.structures_from_structure_ids(structure_ids=33).columns"
   ]
  },
  {
   "cell_type": "code",
   "execution_count": 19,
   "metadata": {},
   "outputs": [
    {
     "data": {
      "text/html": [
       "<div>\n",
       "<style scoped>\n",
       "    .dataframe tbody tr th:only-of-type {\n",
       "        vertical-align: middle;\n",
       "    }\n",
       "\n",
       "    .dataframe tbody tr th {\n",
       "        vertical-align: top;\n",
       "    }\n",
       "\n",
       "    .dataframe thead th {\n",
       "        text-align: right;\n",
       "    }\n",
       "</style>\n",
       "<table border=\"1\" class=\"dataframe\">\n",
       "  <thead>\n",
       "    <tr style=\"text-align: right;\">\n",
       "      <th></th>\n",
       "      <th>structure_ID</th>\n",
       "      <th>kinase</th>\n",
       "      <th>species</th>\n",
       "      <th>kinase_ID</th>\n",
       "      <th>pdb</th>\n",
       "      <th>alt</th>\n",
       "      <th>chain</th>\n",
       "      <th>rmsd1</th>\n",
       "      <th>rmsd2</th>\n",
       "      <th>pocket</th>\n",
       "      <th>...</th>\n",
       "      <th>bp_I_A</th>\n",
       "      <th>bp_I_B</th>\n",
       "      <th>bp_II_in</th>\n",
       "      <th>bp_II_A_in</th>\n",
       "      <th>bp_II_B_in</th>\n",
       "      <th>bp_II_out</th>\n",
       "      <th>bp_II_B</th>\n",
       "      <th>bp_III</th>\n",
       "      <th>bp_IV</th>\n",
       "      <th>bp_V</th>\n",
       "    </tr>\n",
       "  </thead>\n",
       "  <tbody>\n",
       "    <tr>\n",
       "      <th>0</th>\n",
       "      <td>33</td>\n",
       "      <td>ITK</td>\n",
       "      <td>Human</td>\n",
       "      <td>474</td>\n",
       "      <td>1snu</td>\n",
       "      <td></td>\n",
       "      <td>B</td>\n",
       "      <td>0.746</td>\n",
       "      <td>2.124</td>\n",
       "      <td>QEIGSGQFGLVHLVAIKTIDFIEEAEVMMKLSPKLVQLYGVCLVFE...</td>\n",
       "      <td>...</td>\n",
       "      <td>False</td>\n",
       "      <td>False</td>\n",
       "      <td>False</td>\n",
       "      <td>False</td>\n",
       "      <td>False</td>\n",
       "      <td>False</td>\n",
       "      <td>False</td>\n",
       "      <td>False</td>\n",
       "      <td>False</td>\n",
       "      <td>False</td>\n",
       "    </tr>\n",
       "  </tbody>\n",
       "</table>\n",
       "<p>1 rows × 36 columns</p>\n",
       "</div>"
      ],
      "text/plain": [
       "   structure_ID kinase species  kinase_ID   pdb alt chain  rmsd1  rmsd2  \\\n",
       "0            33    ITK   Human        474  1snu         B  0.746  2.124   \n",
       "\n",
       "                                              pocket  ...  bp_I_A  bp_I_B  \\\n",
       "0  QEIGSGQFGLVHLVAIKTIDFIEEAEVMMKLSPKLVQLYGVCLVFE...  ...   False   False   \n",
       "\n",
       "   bp_II_in  bp_II_A_in bp_II_B_in  bp_II_out bp_II_B bp_III  bp_IV   bp_V  \n",
       "0     False       False      False      False   False  False  False  False  \n",
       "\n",
       "[1 rows x 36 columns]"
      ]
     },
     "execution_count": 19,
     "metadata": {},
     "output_type": "execute_result"
    }
   ],
   "source": [
    "klifs.remote.structures.structures_from_structure_ids(structure_ids=33)"
   ]
  },
  {
   "cell_type": "code",
   "execution_count": 20,
   "metadata": {},
   "outputs": [
    {
     "data": {
      "text/html": [
       "<div>\n",
       "<style scoped>\n",
       "    .dataframe tbody tr th:only-of-type {\n",
       "        vertical-align: middle;\n",
       "    }\n",
       "\n",
       "    .dataframe tbody tr th {\n",
       "        vertical-align: top;\n",
       "    }\n",
       "\n",
       "    .dataframe thead th {\n",
       "        text-align: right;\n",
       "    }\n",
       "</style>\n",
       "<table border=\"1\" class=\"dataframe\">\n",
       "  <thead>\n",
       "    <tr style=\"text-align: right;\">\n",
       "      <th></th>\n",
       "      <th>structure_ID</th>\n",
       "      <th>kinase</th>\n",
       "      <th>species</th>\n",
       "      <th>kinase_ID</th>\n",
       "      <th>pdb</th>\n",
       "      <th>alt</th>\n",
       "      <th>chain</th>\n",
       "      <th>rmsd1</th>\n",
       "      <th>rmsd2</th>\n",
       "      <th>pocket</th>\n",
       "      <th>...</th>\n",
       "      <th>bp_I_A</th>\n",
       "      <th>bp_I_B</th>\n",
       "      <th>bp_II_in</th>\n",
       "      <th>bp_II_A_in</th>\n",
       "      <th>bp_II_B_in</th>\n",
       "      <th>bp_II_out</th>\n",
       "      <th>bp_II_B</th>\n",
       "      <th>bp_III</th>\n",
       "      <th>bp_IV</th>\n",
       "      <th>bp_V</th>\n",
       "    </tr>\n",
       "  </thead>\n",
       "  <tbody>\n",
       "    <tr>\n",
       "      <th>0</th>\n",
       "      <td>33</td>\n",
       "      <td>ITK</td>\n",
       "      <td>Human</td>\n",
       "      <td>474</td>\n",
       "      <td>1snu</td>\n",
       "      <td></td>\n",
       "      <td>B</td>\n",
       "      <td>0.746</td>\n",
       "      <td>2.124</td>\n",
       "      <td>QEIGSGQFGLVHLVAIKTIDFIEEAEVMMKLSPKLVQLYGVCLVFE...</td>\n",
       "      <td>...</td>\n",
       "      <td>False</td>\n",
       "      <td>False</td>\n",
       "      <td>False</td>\n",
       "      <td>False</td>\n",
       "      <td>False</td>\n",
       "      <td>False</td>\n",
       "      <td>False</td>\n",
       "      <td>False</td>\n",
       "      <td>False</td>\n",
       "      <td>False</td>\n",
       "    </tr>\n",
       "    <tr>\n",
       "      <th>1</th>\n",
       "      <td>34</td>\n",
       "      <td>ITK</td>\n",
       "      <td>Human</td>\n",
       "      <td>474</td>\n",
       "      <td>4mf1</td>\n",
       "      <td>B</td>\n",
       "      <td>A</td>\n",
       "      <td>0.845</td>\n",
       "      <td>2.053</td>\n",
       "      <td>QEIGSG__GLVHLVAIKTIDFIEEAEVMMKLSPKLVQLYGVCLVFE...</td>\n",
       "      <td>...</td>\n",
       "      <td>False</td>\n",
       "      <td>False</td>\n",
       "      <td>False</td>\n",
       "      <td>False</td>\n",
       "      <td>False</td>\n",
       "      <td>False</td>\n",
       "      <td>False</td>\n",
       "      <td>False</td>\n",
       "      <td>False</td>\n",
       "      <td>False</td>\n",
       "    </tr>\n",
       "  </tbody>\n",
       "</table>\n",
       "<p>2 rows × 36 columns</p>\n",
       "</div>"
      ],
      "text/plain": [
       "   structure_ID kinase species  kinase_ID   pdb alt chain  rmsd1  rmsd2  \\\n",
       "0            33    ITK   Human        474  1snu         B  0.746  2.124   \n",
       "1            34    ITK   Human        474  4mf1   B     A  0.845  2.053   \n",
       "\n",
       "                                              pocket  ...  bp_I_A  bp_I_B  \\\n",
       "0  QEIGSGQFGLVHLVAIKTIDFIEEAEVMMKLSPKLVQLYGVCLVFE...  ...   False   False   \n",
       "1  QEIGSG__GLVHLVAIKTIDFIEEAEVMMKLSPKLVQLYGVCLVFE...  ...   False   False   \n",
       "\n",
       "   bp_II_in  bp_II_A_in bp_II_B_in  bp_II_out bp_II_B bp_III  bp_IV   bp_V  \n",
       "0     False       False      False      False   False  False  False  False  \n",
       "1     False       False      False      False   False  False  False  False  \n",
       "\n",
       "[2 rows x 36 columns]"
      ]
     },
     "execution_count": 20,
     "metadata": {},
     "output_type": "execute_result"
    }
   ],
   "source": [
    "klifs.remote.structures.structures_from_structure_ids(structure_ids=[33, 34])"
   ]
  },
  {
   "cell_type": "markdown",
   "metadata": {},
   "source": [
    "#### ... by KLIFS kinase ID(s)"
   ]
  },
  {
   "cell_type": "code",
   "execution_count": 21,
   "metadata": {},
   "outputs": [
    {
     "data": {
      "text/html": [
       "<div>\n",
       "<style scoped>\n",
       "    .dataframe tbody tr th:only-of-type {\n",
       "        vertical-align: middle;\n",
       "    }\n",
       "\n",
       "    .dataframe tbody tr th {\n",
       "        vertical-align: top;\n",
       "    }\n",
       "\n",
       "    .dataframe thead th {\n",
       "        text-align: right;\n",
       "    }\n",
       "</style>\n",
       "<table border=\"1\" class=\"dataframe\">\n",
       "  <thead>\n",
       "    <tr style=\"text-align: right;\">\n",
       "      <th></th>\n",
       "      <th>structure_ID</th>\n",
       "      <th>kinase</th>\n",
       "      <th>species</th>\n",
       "      <th>kinase_ID</th>\n",
       "      <th>pdb</th>\n",
       "      <th>alt</th>\n",
       "      <th>chain</th>\n",
       "      <th>rmsd1</th>\n",
       "      <th>rmsd2</th>\n",
       "      <th>pocket</th>\n",
       "      <th>...</th>\n",
       "      <th>bp_I_A</th>\n",
       "      <th>bp_I_B</th>\n",
       "      <th>bp_II_in</th>\n",
       "      <th>bp_II_A_in</th>\n",
       "      <th>bp_II_B_in</th>\n",
       "      <th>bp_II_out</th>\n",
       "      <th>bp_II_B</th>\n",
       "      <th>bp_III</th>\n",
       "      <th>bp_IV</th>\n",
       "      <th>bp_V</th>\n",
       "    </tr>\n",
       "  </thead>\n",
       "  <tbody>\n",
       "    <tr>\n",
       "      <th>0</th>\n",
       "      <td>7085</td>\n",
       "      <td>MASTL</td>\n",
       "      <td>Human</td>\n",
       "      <td>22</td>\n",
       "      <td>5loh</td>\n",
       "      <td>B</td>\n",
       "      <td>A</td>\n",
       "      <td>0.827</td>\n",
       "      <td>1.960</td>\n",
       "      <td>KPIS____GKVYLYAVKVV________LALSKPFIVHLYYSYLVME...</td>\n",
       "      <td>...</td>\n",
       "      <td>False</td>\n",
       "      <td>False</td>\n",
       "      <td>False</td>\n",
       "      <td>False</td>\n",
       "      <td>False</td>\n",
       "      <td>False</td>\n",
       "      <td>False</td>\n",
       "      <td>False</td>\n",
       "      <td>False</td>\n",
       "      <td>False</td>\n",
       "    </tr>\n",
       "    <tr>\n",
       "      <th>1</th>\n",
       "      <td>7086</td>\n",
       "      <td>MASTL</td>\n",
       "      <td>Human</td>\n",
       "      <td>22</td>\n",
       "      <td>5loh</td>\n",
       "      <td>A</td>\n",
       "      <td>A</td>\n",
       "      <td>0.827</td>\n",
       "      <td>1.960</td>\n",
       "      <td>KPIS____GKVYLYAVKVV________LALSKPFIVHLYYSYLVME...</td>\n",
       "      <td>...</td>\n",
       "      <td>False</td>\n",
       "      <td>False</td>\n",
       "      <td>False</td>\n",
       "      <td>False</td>\n",
       "      <td>False</td>\n",
       "      <td>False</td>\n",
       "      <td>False</td>\n",
       "      <td>False</td>\n",
       "      <td>False</td>\n",
       "      <td>False</td>\n",
       "    </tr>\n",
       "    <tr>\n",
       "      <th>2</th>\n",
       "      <td>7087</td>\n",
       "      <td>MASTL</td>\n",
       "      <td>Human</td>\n",
       "      <td>22</td>\n",
       "      <td>5loh</td>\n",
       "      <td>B</td>\n",
       "      <td>B</td>\n",
       "      <td>0.820</td>\n",
       "      <td>2.175</td>\n",
       "      <td>KPISRGAFGKVYLYAVKVV_________ALSKPFIVHLYYSYLVME...</td>\n",
       "      <td>...</td>\n",
       "      <td>False</td>\n",
       "      <td>False</td>\n",
       "      <td>False</td>\n",
       "      <td>False</td>\n",
       "      <td>False</td>\n",
       "      <td>False</td>\n",
       "      <td>False</td>\n",
       "      <td>False</td>\n",
       "      <td>False</td>\n",
       "      <td>False</td>\n",
       "    </tr>\n",
       "    <tr>\n",
       "      <th>3</th>\n",
       "      <td>7088</td>\n",
       "      <td>MASTL</td>\n",
       "      <td>Human</td>\n",
       "      <td>22</td>\n",
       "      <td>5loh</td>\n",
       "      <td>A</td>\n",
       "      <td>B</td>\n",
       "      <td>0.820</td>\n",
       "      <td>2.175</td>\n",
       "      <td>KPISRGAFGKVYLYAVKVV_________ALSKPFIVHLYYSYLVME...</td>\n",
       "      <td>...</td>\n",
       "      <td>False</td>\n",
       "      <td>False</td>\n",
       "      <td>False</td>\n",
       "      <td>False</td>\n",
       "      <td>False</td>\n",
       "      <td>False</td>\n",
       "      <td>False</td>\n",
       "      <td>False</td>\n",
       "      <td>False</td>\n",
       "      <td>False</td>\n",
       "    </tr>\n",
       "  </tbody>\n",
       "</table>\n",
       "<p>4 rows × 36 columns</p>\n",
       "</div>"
      ],
      "text/plain": [
       "   structure_ID kinase species  kinase_ID   pdb alt chain  rmsd1  rmsd2  \\\n",
       "0          7085  MASTL   Human         22  5loh   B     A  0.827  1.960   \n",
       "1          7086  MASTL   Human         22  5loh   A     A  0.827  1.960   \n",
       "2          7087  MASTL   Human         22  5loh   B     B  0.820  2.175   \n",
       "3          7088  MASTL   Human         22  5loh   A     B  0.820  2.175   \n",
       "\n",
       "                                              pocket  ...  bp_I_A  bp_I_B  \\\n",
       "0  KPIS____GKVYLYAVKVV________LALSKPFIVHLYYSYLVME...  ...   False   False   \n",
       "1  KPIS____GKVYLYAVKVV________LALSKPFIVHLYYSYLVME...  ...   False   False   \n",
       "2  KPISRGAFGKVYLYAVKVV_________ALSKPFIVHLYYSYLVME...  ...   False   False   \n",
       "3  KPISRGAFGKVYLYAVKVV_________ALSKPFIVHLYYSYLVME...  ...   False   False   \n",
       "\n",
       "   bp_II_in  bp_II_A_in bp_II_B_in  bp_II_out bp_II_B bp_III  bp_IV   bp_V  \n",
       "0     False       False      False      False   False  False  False  False  \n",
       "1     False       False      False      False   False  False  False  False  \n",
       "2     False       False      False      False   False  False  False  False  \n",
       "3     False       False      False      False   False  False  False  False  \n",
       "\n",
       "[4 rows x 36 columns]"
      ]
     },
     "execution_count": 21,
     "metadata": {},
     "output_type": "execute_result"
    }
   ],
   "source": [
    "klifs.remote.structures.structures_from_kinase_ids(kinase_ids=22)"
   ]
  },
  {
   "cell_type": "code",
   "execution_count": 22,
   "metadata": {},
   "outputs": [
    {
     "data": {
      "text/html": [
       "<div>\n",
       "<style scoped>\n",
       "    .dataframe tbody tr th:only-of-type {\n",
       "        vertical-align: middle;\n",
       "    }\n",
       "\n",
       "    .dataframe tbody tr th {\n",
       "        vertical-align: top;\n",
       "    }\n",
       "\n",
       "    .dataframe thead th {\n",
       "        text-align: right;\n",
       "    }\n",
       "</style>\n",
       "<table border=\"1\" class=\"dataframe\">\n",
       "  <thead>\n",
       "    <tr style=\"text-align: right;\">\n",
       "      <th></th>\n",
       "      <th>structure_ID</th>\n",
       "      <th>kinase</th>\n",
       "      <th>species</th>\n",
       "      <th>kinase_ID</th>\n",
       "      <th>pdb</th>\n",
       "      <th>alt</th>\n",
       "      <th>chain</th>\n",
       "      <th>rmsd1</th>\n",
       "      <th>rmsd2</th>\n",
       "      <th>pocket</th>\n",
       "      <th>...</th>\n",
       "      <th>bp_I_A</th>\n",
       "      <th>bp_I_B</th>\n",
       "      <th>bp_II_in</th>\n",
       "      <th>bp_II_A_in</th>\n",
       "      <th>bp_II_B_in</th>\n",
       "      <th>bp_II_out</th>\n",
       "      <th>bp_II_B</th>\n",
       "      <th>bp_III</th>\n",
       "      <th>bp_IV</th>\n",
       "      <th>bp_V</th>\n",
       "    </tr>\n",
       "  </thead>\n",
       "  <tbody>\n",
       "    <tr>\n",
       "      <th>0</th>\n",
       "      <td>7085</td>\n",
       "      <td>MASTL</td>\n",
       "      <td>Human</td>\n",
       "      <td>22</td>\n",
       "      <td>5loh</td>\n",
       "      <td>B</td>\n",
       "      <td>A</td>\n",
       "      <td>0.827</td>\n",
       "      <td>1.960</td>\n",
       "      <td>KPIS____GKVYLYAVKVV________LALSKPFIVHLYYSYLVME...</td>\n",
       "      <td>...</td>\n",
       "      <td>False</td>\n",
       "      <td>False</td>\n",
       "      <td>False</td>\n",
       "      <td>False</td>\n",
       "      <td>False</td>\n",
       "      <td>False</td>\n",
       "      <td>False</td>\n",
       "      <td>False</td>\n",
       "      <td>False</td>\n",
       "      <td>False</td>\n",
       "    </tr>\n",
       "    <tr>\n",
       "      <th>1</th>\n",
       "      <td>7086</td>\n",
       "      <td>MASTL</td>\n",
       "      <td>Human</td>\n",
       "      <td>22</td>\n",
       "      <td>5loh</td>\n",
       "      <td>A</td>\n",
       "      <td>A</td>\n",
       "      <td>0.827</td>\n",
       "      <td>1.960</td>\n",
       "      <td>KPIS____GKVYLYAVKVV________LALSKPFIVHLYYSYLVME...</td>\n",
       "      <td>...</td>\n",
       "      <td>False</td>\n",
       "      <td>False</td>\n",
       "      <td>False</td>\n",
       "      <td>False</td>\n",
       "      <td>False</td>\n",
       "      <td>False</td>\n",
       "      <td>False</td>\n",
       "      <td>False</td>\n",
       "      <td>False</td>\n",
       "      <td>False</td>\n",
       "    </tr>\n",
       "    <tr>\n",
       "      <th>2</th>\n",
       "      <td>7087</td>\n",
       "      <td>MASTL</td>\n",
       "      <td>Human</td>\n",
       "      <td>22</td>\n",
       "      <td>5loh</td>\n",
       "      <td>B</td>\n",
       "      <td>B</td>\n",
       "      <td>0.820</td>\n",
       "      <td>2.175</td>\n",
       "      <td>KPISRGAFGKVYLYAVKVV_________ALSKPFIVHLYYSYLVME...</td>\n",
       "      <td>...</td>\n",
       "      <td>False</td>\n",
       "      <td>False</td>\n",
       "      <td>False</td>\n",
       "      <td>False</td>\n",
       "      <td>False</td>\n",
       "      <td>False</td>\n",
       "      <td>False</td>\n",
       "      <td>False</td>\n",
       "      <td>False</td>\n",
       "      <td>False</td>\n",
       "    </tr>\n",
       "    <tr>\n",
       "      <th>3</th>\n",
       "      <td>7088</td>\n",
       "      <td>MASTL</td>\n",
       "      <td>Human</td>\n",
       "      <td>22</td>\n",
       "      <td>5loh</td>\n",
       "      <td>A</td>\n",
       "      <td>B</td>\n",
       "      <td>0.820</td>\n",
       "      <td>2.175</td>\n",
       "      <td>KPISRGAFGKVYLYAVKVV_________ALSKPFIVHLYYSYLVME...</td>\n",
       "      <td>...</td>\n",
       "      <td>False</td>\n",
       "      <td>False</td>\n",
       "      <td>False</td>\n",
       "      <td>False</td>\n",
       "      <td>False</td>\n",
       "      <td>False</td>\n",
       "      <td>False</td>\n",
       "      <td>False</td>\n",
       "      <td>False</td>\n",
       "      <td>False</td>\n",
       "    </tr>\n",
       "  </tbody>\n",
       "</table>\n",
       "<p>4 rows × 36 columns</p>\n",
       "</div>"
      ],
      "text/plain": [
       "   structure_ID kinase species  kinase_ID   pdb alt chain  rmsd1  rmsd2  \\\n",
       "0          7085  MASTL   Human         22  5loh   B     A  0.827  1.960   \n",
       "1          7086  MASTL   Human         22  5loh   A     A  0.827  1.960   \n",
       "2          7087  MASTL   Human         22  5loh   B     B  0.820  2.175   \n",
       "3          7088  MASTL   Human         22  5loh   A     B  0.820  2.175   \n",
       "\n",
       "                                              pocket  ...  bp_I_A  bp_I_B  \\\n",
       "0  KPIS____GKVYLYAVKVV________LALSKPFIVHLYYSYLVME...  ...   False   False   \n",
       "1  KPIS____GKVYLYAVKVV________LALSKPFIVHLYYSYLVME...  ...   False   False   \n",
       "2  KPISRGAFGKVYLYAVKVV_________ALSKPFIVHLYYSYLVME...  ...   False   False   \n",
       "3  KPISRGAFGKVYLYAVKVV_________ALSKPFIVHLYYSYLVME...  ...   False   False   \n",
       "\n",
       "   bp_II_in  bp_II_A_in bp_II_B_in  bp_II_out bp_II_B bp_III  bp_IV   bp_V  \n",
       "0     False       False      False      False   False  False  False  False  \n",
       "1     False       False      False      False   False  False  False  False  \n",
       "2     False       False      False      False   False  False  False  False  \n",
       "3     False       False      False      False   False  False  False  False  \n",
       "\n",
       "[4 rows x 36 columns]"
      ]
     },
     "execution_count": 22,
     "metadata": {},
     "output_type": "execute_result"
    }
   ],
   "source": [
    "klifs.remote.structures.structures_from_kinase_ids(kinase_ids=[22, 23])"
   ]
  },
  {
   "cell_type": "markdown",
   "metadata": {},
   "source": [
    "#### ... by PDB ID"
   ]
  },
  {
   "cell_type": "code",
   "execution_count": 23,
   "metadata": {},
   "outputs": [
    {
     "data": {
      "text/html": [
       "<div>\n",
       "<style scoped>\n",
       "    .dataframe tbody tr th:only-of-type {\n",
       "        vertical-align: middle;\n",
       "    }\n",
       "\n",
       "    .dataframe tbody tr th {\n",
       "        vertical-align: top;\n",
       "    }\n",
       "\n",
       "    .dataframe thead th {\n",
       "        text-align: right;\n",
       "    }\n",
       "</style>\n",
       "<table border=\"1\" class=\"dataframe\">\n",
       "  <thead>\n",
       "    <tr style=\"text-align: right;\">\n",
       "      <th></th>\n",
       "      <th>structure_ID</th>\n",
       "      <th>kinase</th>\n",
       "      <th>species</th>\n",
       "      <th>kinase_ID</th>\n",
       "      <th>pdb</th>\n",
       "      <th>alt</th>\n",
       "      <th>chain</th>\n",
       "      <th>rmsd1</th>\n",
       "      <th>rmsd2</th>\n",
       "      <th>pocket</th>\n",
       "      <th>...</th>\n",
       "      <th>bp_I_A</th>\n",
       "      <th>bp_I_B</th>\n",
       "      <th>bp_II_in</th>\n",
       "      <th>bp_II_A_in</th>\n",
       "      <th>bp_II_B_in</th>\n",
       "      <th>bp_II_out</th>\n",
       "      <th>bp_II_B</th>\n",
       "      <th>bp_III</th>\n",
       "      <th>bp_IV</th>\n",
       "      <th>bp_V</th>\n",
       "    </tr>\n",
       "  </thead>\n",
       "  <tbody>\n",
       "    <tr>\n",
       "      <th>0</th>\n",
       "      <td>784</td>\n",
       "      <td>EGFR</td>\n",
       "      <td>Human</td>\n",
       "      <td>406</td>\n",
       "      <td>3w32</td>\n",
       "      <td></td>\n",
       "      <td>A</td>\n",
       "      <td>0.83</td>\n",
       "      <td>2.177</td>\n",
       "      <td>KVLGSGAFGTVYKVAIKELEILDEAYVMASVDPHVCRLLGIQLITQ...</td>\n",
       "      <td>...</td>\n",
       "      <td>True</td>\n",
       "      <td>True</td>\n",
       "      <td>True</td>\n",
       "      <td>True</td>\n",
       "      <td>False</td>\n",
       "      <td>False</td>\n",
       "      <td>False</td>\n",
       "      <td>False</td>\n",
       "      <td>False</td>\n",
       "      <td>False</td>\n",
       "    </tr>\n",
       "  </tbody>\n",
       "</table>\n",
       "<p>1 rows × 36 columns</p>\n",
       "</div>"
      ],
      "text/plain": [
       "   structure_ID kinase species  kinase_ID   pdb alt chain  rmsd1  rmsd2  \\\n",
       "0           784   EGFR   Human        406  3w32         A   0.83  2.177   \n",
       "\n",
       "                                              pocket  ...  bp_I_A  bp_I_B  \\\n",
       "0  KVLGSGAFGTVYKVAIKELEILDEAYVMASVDPHVCRLLGIQLITQ...  ...    True    True   \n",
       "\n",
       "   bp_II_in  bp_II_A_in bp_II_B_in  bp_II_out bp_II_B bp_III  bp_IV   bp_V  \n",
       "0      True        True      False      False   False  False  False  False  \n",
       "\n",
       "[1 rows x 36 columns]"
      ]
     },
     "execution_count": 23,
     "metadata": {},
     "output_type": "execute_result"
    }
   ],
   "source": [
    "klifs.remote.structures.structures_from_pdb_ids(pdb_ids='3w32')"
   ]
  },
  {
   "cell_type": "code",
   "execution_count": 24,
   "metadata": {},
   "outputs": [
    {
     "data": {
      "text/html": [
       "<div>\n",
       "<style scoped>\n",
       "    .dataframe tbody tr th:only-of-type {\n",
       "        vertical-align: middle;\n",
       "    }\n",
       "\n",
       "    .dataframe tbody tr th {\n",
       "        vertical-align: top;\n",
       "    }\n",
       "\n",
       "    .dataframe thead th {\n",
       "        text-align: right;\n",
       "    }\n",
       "</style>\n",
       "<table border=\"1\" class=\"dataframe\">\n",
       "  <thead>\n",
       "    <tr style=\"text-align: right;\">\n",
       "      <th></th>\n",
       "      <th>structure_ID</th>\n",
       "      <th>kinase</th>\n",
       "      <th>species</th>\n",
       "      <th>kinase_ID</th>\n",
       "      <th>pdb</th>\n",
       "      <th>alt</th>\n",
       "      <th>chain</th>\n",
       "      <th>rmsd1</th>\n",
       "      <th>rmsd2</th>\n",
       "      <th>pocket</th>\n",
       "      <th>...</th>\n",
       "      <th>bp_I_A</th>\n",
       "      <th>bp_I_B</th>\n",
       "      <th>bp_II_in</th>\n",
       "      <th>bp_II_A_in</th>\n",
       "      <th>bp_II_B_in</th>\n",
       "      <th>bp_II_out</th>\n",
       "      <th>bp_II_B</th>\n",
       "      <th>bp_III</th>\n",
       "      <th>bp_IV</th>\n",
       "      <th>bp_V</th>\n",
       "    </tr>\n",
       "  </thead>\n",
       "  <tbody>\n",
       "    <tr>\n",
       "      <th>0</th>\n",
       "      <td>7308</td>\n",
       "      <td>EGFR</td>\n",
       "      <td>Human</td>\n",
       "      <td>406</td>\n",
       "      <td>3poz</td>\n",
       "      <td></td>\n",
       "      <td>A</td>\n",
       "      <td>0.815</td>\n",
       "      <td>2.155</td>\n",
       "      <td>KVLGSGAFGTVYKVAIKELEILDEAYVMASVDPHVCRLLGIQLITQ...</td>\n",
       "      <td>...</td>\n",
       "      <td>True</td>\n",
       "      <td>True</td>\n",
       "      <td>True</td>\n",
       "      <td>True</td>\n",
       "      <td>False</td>\n",
       "      <td>False</td>\n",
       "      <td>False</td>\n",
       "      <td>False</td>\n",
       "      <td>False</td>\n",
       "      <td>False</td>\n",
       "    </tr>\n",
       "    <tr>\n",
       "      <th>1</th>\n",
       "      <td>784</td>\n",
       "      <td>EGFR</td>\n",
       "      <td>Human</td>\n",
       "      <td>406</td>\n",
       "      <td>3w32</td>\n",
       "      <td></td>\n",
       "      <td>A</td>\n",
       "      <td>0.830</td>\n",
       "      <td>2.177</td>\n",
       "      <td>KVLGSGAFGTVYKVAIKELEILDEAYVMASVDPHVCRLLGIQLITQ...</td>\n",
       "      <td>...</td>\n",
       "      <td>True</td>\n",
       "      <td>True</td>\n",
       "      <td>True</td>\n",
       "      <td>True</td>\n",
       "      <td>False</td>\n",
       "      <td>False</td>\n",
       "      <td>False</td>\n",
       "      <td>False</td>\n",
       "      <td>False</td>\n",
       "      <td>False</td>\n",
       "    </tr>\n",
       "  </tbody>\n",
       "</table>\n",
       "<p>2 rows × 36 columns</p>\n",
       "</div>"
      ],
      "text/plain": [
       "   structure_ID kinase species  kinase_ID   pdb alt chain  rmsd1  rmsd2  \\\n",
       "0          7308   EGFR   Human        406  3poz         A  0.815  2.155   \n",
       "1           784   EGFR   Human        406  3w32         A  0.830  2.177   \n",
       "\n",
       "                                              pocket  ...  bp_I_A  bp_I_B  \\\n",
       "0  KVLGSGAFGTVYKVAIKELEILDEAYVMASVDPHVCRLLGIQLITQ...  ...    True    True   \n",
       "1  KVLGSGAFGTVYKVAIKELEILDEAYVMASVDPHVCRLLGIQLITQ...  ...    True    True   \n",
       "\n",
       "   bp_II_in  bp_II_A_in bp_II_B_in  bp_II_out bp_II_B bp_III  bp_IV   bp_V  \n",
       "0      True        True      False      False   False  False  False  False  \n",
       "1      True        True      False      False   False  False  False  False  \n",
       "\n",
       "[2 rows x 36 columns]"
      ]
     },
     "execution_count": 24,
     "metadata": {},
     "output_type": "execute_result"
    }
   ],
   "source": [
    "klifs.remote.structures.structures_from_pdb_ids(pdb_ids=['3w32', '3poz'])"
   ]
  },
  {
   "cell_type": "markdown",
   "metadata": {},
   "source": [
    "### Coordinates\n",
    "\n",
    "Load or download structural data from mol2 files."
   ]
  },
  {
   "cell_type": "markdown",
   "metadata": {},
   "source": [
    "#### Complex"
   ]
  },
  {
   "cell_type": "markdown",
   "metadata": {},
   "source": [
    "Quick access to complex in mol2 format using `fetch` defaults."
   ]
  },
  {
   "cell_type": "code",
   "execution_count": 25,
   "metadata": {},
   "outputs": [
    {
     "data": {
      "text/html": [
       "<div>\n",
       "<style scoped>\n",
       "    .dataframe tbody tr th:only-of-type {\n",
       "        vertical-align: middle;\n",
       "    }\n",
       "\n",
       "    .dataframe tbody tr th {\n",
       "        vertical-align: top;\n",
       "    }\n",
       "\n",
       "    .dataframe thead th {\n",
       "        text-align: right;\n",
       "    }\n",
       "</style>\n",
       "<table border=\"1\" class=\"dataframe\">\n",
       "  <thead>\n",
       "    <tr style=\"text-align: right;\">\n",
       "      <th></th>\n",
       "      <th>atom_id</th>\n",
       "      <th>atom_name</th>\n",
       "      <th>x</th>\n",
       "      <th>y</th>\n",
       "      <th>z</th>\n",
       "      <th>atom_type</th>\n",
       "      <th>subst_id</th>\n",
       "      <th>subst_name</th>\n",
       "      <th>charge</th>\n",
       "      <th>backbone</th>\n",
       "    </tr>\n",
       "  </thead>\n",
       "  <tbody>\n",
       "    <tr>\n",
       "      <th>0</th>\n",
       "      <td>1</td>\n",
       "      <td>N</td>\n",
       "      <td>14.4725</td>\n",
       "      <td>33.9701</td>\n",
       "      <td>39.3798</td>\n",
       "      <td>N.4</td>\n",
       "      <td>1</td>\n",
       "      <td>ILE358</td>\n",
       "      <td>1.0</td>\n",
       "      <td>BACKBONE</td>\n",
       "    </tr>\n",
       "    <tr>\n",
       "      <th>1</th>\n",
       "      <td>2</td>\n",
       "      <td>H1</td>\n",
       "      <td>15.2804</td>\n",
       "      <td>34.1248</td>\n",
       "      <td>39.9658</td>\n",
       "      <td>H</td>\n",
       "      <td>1</td>\n",
       "      <td>ILE358</td>\n",
       "      <td>0.0</td>\n",
       "      <td>BACKBONE</td>\n",
       "    </tr>\n",
       "    <tr>\n",
       "      <th>2</th>\n",
       "      <td>3</td>\n",
       "      <td>H2</td>\n",
       "      <td>14.4008</td>\n",
       "      <td>34.7151</td>\n",
       "      <td>38.7016</td>\n",
       "      <td>H</td>\n",
       "      <td>1</td>\n",
       "      <td>ILE358</td>\n",
       "      <td>0.0</td>\n",
       "      <td>BACKBONE</td>\n",
       "    </tr>\n",
       "    <tr>\n",
       "      <th>3</th>\n",
       "      <td>4</td>\n",
       "      <td>H3</td>\n",
       "      <td>14.5688</td>\n",
       "      <td>33.0864</td>\n",
       "      <td>38.9002</td>\n",
       "      <td>H</td>\n",
       "      <td>1</td>\n",
       "      <td>ILE358</td>\n",
       "      <td>0.0</td>\n",
       "      <td>BACKBONE</td>\n",
       "    </tr>\n",
       "    <tr>\n",
       "      <th>4</th>\n",
       "      <td>5</td>\n",
       "      <td>CA</td>\n",
       "      <td>13.2420</td>\n",
       "      <td>33.9462</td>\n",
       "      <td>40.2248</td>\n",
       "      <td>C.3</td>\n",
       "      <td>1</td>\n",
       "      <td>ILE358</td>\n",
       "      <td>0.0</td>\n",
       "      <td>BACKBONE</td>\n",
       "    </tr>\n",
       "  </tbody>\n",
       "</table>\n",
       "</div>"
      ],
      "text/plain": [
       "   atom_id atom_name        x        y        z atom_type  subst_id  \\\n",
       "0        1         N  14.4725  33.9701  39.3798       N.4         1   \n",
       "1        2        H1  15.2804  34.1248  39.9658         H         1   \n",
       "2        3        H2  14.4008  34.7151  38.7016         H         1   \n",
       "3        4        H3  14.5688  33.0864  38.9002         H         1   \n",
       "4        5        CA  13.2420  33.9462  40.2248       C.3         1   \n",
       "\n",
       "  subst_name  charge  backbone  \n",
       "0     ILE358     1.0  BACKBONE  \n",
       "1     ILE358     0.0  BACKBONE  \n",
       "2     ILE358     0.0  BACKBONE  \n",
       "3     ILE358     0.0  BACKBONE  \n",
       "4     ILE358     0.0  BACKBONE  "
      ]
     },
     "execution_count": 25,
     "metadata": {},
     "output_type": "execute_result"
    }
   ],
   "source": [
    "klifs.remote.coordinates.fetch(33).head()"
   ]
  },
  {
   "cell_type": "code",
   "execution_count": 26,
   "metadata": {},
   "outputs": [
    {
     "name": "stdout",
     "output_type": "stream",
     "text": [
      "Structural data keys: dict_keys(['ATOM', 'HETATM', 'ANISOU', 'OTHERS'])\n"
     ]
    },
    {
     "data": {
      "text/plain": [
       "dict_keys(['ATOM', 'HETATM', 'ANISOU', 'OTHERS'])"
      ]
     },
     "execution_count": 26,
     "metadata": {},
     "output_type": "execute_result"
    }
   ],
   "source": [
    "klifs.remote.coordinates.fetch(33, input_format='pdb').keys()"
   ]
  },
  {
   "cell_type": "markdown",
   "metadata": {},
   "source": [
    "#### Ligand"
   ]
  },
  {
   "cell_type": "code",
   "execution_count": 27,
   "metadata": {},
   "outputs": [
    {
     "data": {
      "text/html": [
       "<div>\n",
       "<style scoped>\n",
       "    .dataframe tbody tr th:only-of-type {\n",
       "        vertical-align: middle;\n",
       "    }\n",
       "\n",
       "    .dataframe tbody tr th {\n",
       "        vertical-align: top;\n",
       "    }\n",
       "\n",
       "    .dataframe thead th {\n",
       "        text-align: right;\n",
       "    }\n",
       "</style>\n",
       "<table border=\"1\" class=\"dataframe\">\n",
       "  <thead>\n",
       "    <tr style=\"text-align: right;\">\n",
       "      <th></th>\n",
       "      <th>atom_id</th>\n",
       "      <th>atom_name</th>\n",
       "      <th>x</th>\n",
       "      <th>y</th>\n",
       "      <th>z</th>\n",
       "      <th>atom_type</th>\n",
       "      <th>subst_id</th>\n",
       "      <th>subst_name</th>\n",
       "      <th>charge</th>\n",
       "    </tr>\n",
       "  </thead>\n",
       "  <tbody>\n",
       "    <tr>\n",
       "      <th>0</th>\n",
       "      <td>1</td>\n",
       "      <td>O4</td>\n",
       "      <td>1.9656</td>\n",
       "      <td>14.5986</td>\n",
       "      <td>41.0878</td>\n",
       "      <td>O.3</td>\n",
       "      <td>1</td>\n",
       "      <td>STU</td>\n",
       "      <td>-0.5600</td>\n",
       "    </tr>\n",
       "    <tr>\n",
       "      <th>1</th>\n",
       "      <td>2</td>\n",
       "      <td>C25</td>\n",
       "      <td>0.8220</td>\n",
       "      <td>14.3912</td>\n",
       "      <td>41.8995</td>\n",
       "      <td>C.3</td>\n",
       "      <td>1</td>\n",
       "      <td>STU</td>\n",
       "      <td>0.4556</td>\n",
       "    </tr>\n",
       "    <tr>\n",
       "      <th>2</th>\n",
       "      <td>3</td>\n",
       "      <td>H25</td>\n",
       "      <td>0.9939</td>\n",
       "      <td>13.7705</td>\n",
       "      <td>42.7788</td>\n",
       "      <td>H</td>\n",
       "      <td>1</td>\n",
       "      <td>STU</td>\n",
       "      <td>0.0800</td>\n",
       "    </tr>\n",
       "    <tr>\n",
       "      <th>3</th>\n",
       "      <td>4</td>\n",
       "      <td>C24</td>\n",
       "      <td>-0.2090</td>\n",
       "      <td>13.5993</td>\n",
       "      <td>41.0666</td>\n",
       "      <td>C.3</td>\n",
       "      <td>1</td>\n",
       "      <td>STU</td>\n",
       "      <td>-0.1600</td>\n",
       "    </tr>\n",
       "    <tr>\n",
       "      <th>4</th>\n",
       "      <td>5</td>\n",
       "      <td>H241</td>\n",
       "      <td>-1.1472</td>\n",
       "      <td>14.1541</td>\n",
       "      <td>41.0753</td>\n",
       "      <td>H</td>\n",
       "      <td>1</td>\n",
       "      <td>STU</td>\n",
       "      <td>0.0800</td>\n",
       "    </tr>\n",
       "  </tbody>\n",
       "</table>\n",
       "</div>"
      ],
      "text/plain": [
       "   atom_id atom_name       x        y        z atom_type  subst_id subst_name  \\\n",
       "0        1        O4  1.9656  14.5986  41.0878       O.3         1        STU   \n",
       "1        2       C25  0.8220  14.3912  41.8995       C.3         1        STU   \n",
       "2        3       H25  0.9939  13.7705  42.7788         H         1        STU   \n",
       "3        4       C24 -0.2090  13.5993  41.0666       C.3         1        STU   \n",
       "4        5      H241 -1.1472  14.1541  41.0753         H         1        STU   \n",
       "\n",
       "   charge  \n",
       "0 -0.5600  \n",
       "1  0.4556  \n",
       "2  0.0800  \n",
       "3 -0.1600  \n",
       "4  0.0800  "
      ]
     },
     "execution_count": 27,
     "metadata": {},
     "output_type": "execute_result"
    }
   ],
   "source": [
    "klifs.remote.coordinates.fetch(33, entity='ligand').head()"
   ]
  },
  {
   "cell_type": "code",
   "execution_count": 28,
   "metadata": {},
   "outputs": [
    {
     "data": {
      "image/png": "[encoded data removed]",
      "text/plain": [
       "<rdkit.Chem.rdchem.Mol at 0x7f04f1fab580>"
      ]
     },
     "execution_count": 28,
     "metadata": {},
     "output_type": "execute_result"
    }
   ],
   "source": [
    "klifs.remote.coordinates.fetch(33, entity='ligand', output_format='rdkit', compute2d=False)"
   ]
  },
  {
   "cell_type": "markdown",
   "metadata": {},
   "source": [
    "#### Protein"
   ]
  },
  {
   "cell_type": "code",
   "execution_count": 29,
   "metadata": {},
   "outputs": [
    {
     "data": {
      "text/html": [
       "<div>\n",
       "<style scoped>\n",
       "    .dataframe tbody tr th:only-of-type {\n",
       "        vertical-align: middle;\n",
       "    }\n",
       "\n",
       "    .dataframe tbody tr th {\n",
       "        vertical-align: top;\n",
       "    }\n",
       "\n",
       "    .dataframe thead th {\n",
       "        text-align: right;\n",
       "    }\n",
       "</style>\n",
       "<table border=\"1\" class=\"dataframe\">\n",
       "  <thead>\n",
       "    <tr style=\"text-align: right;\">\n",
       "      <th></th>\n",
       "      <th>atom_id</th>\n",
       "      <th>atom_name</th>\n",
       "      <th>x</th>\n",
       "      <th>y</th>\n",
       "      <th>z</th>\n",
       "      <th>atom_type</th>\n",
       "      <th>subst_id</th>\n",
       "      <th>subst_name</th>\n",
       "      <th>charge</th>\n",
       "      <th>backbone</th>\n",
       "    </tr>\n",
       "  </thead>\n",
       "  <tbody>\n",
       "    <tr>\n",
       "      <th>0</th>\n",
       "      <td>1</td>\n",
       "      <td>N</td>\n",
       "      <td>14.4725</td>\n",
       "      <td>33.9701</td>\n",
       "      <td>39.3798</td>\n",
       "      <td>N.4</td>\n",
       "      <td>1</td>\n",
       "      <td>ILE358</td>\n",
       "      <td>1.0</td>\n",
       "      <td>BACKBONE</td>\n",
       "    </tr>\n",
       "    <tr>\n",
       "      <th>1</th>\n",
       "      <td>2</td>\n",
       "      <td>H1</td>\n",
       "      <td>15.2804</td>\n",
       "      <td>34.1248</td>\n",
       "      <td>39.9658</td>\n",
       "      <td>H</td>\n",
       "      <td>1</td>\n",
       "      <td>ILE358</td>\n",
       "      <td>0.0</td>\n",
       "      <td>BACKBONE</td>\n",
       "    </tr>\n",
       "    <tr>\n",
       "      <th>2</th>\n",
       "      <td>3</td>\n",
       "      <td>H2</td>\n",
       "      <td>14.4008</td>\n",
       "      <td>34.7151</td>\n",
       "      <td>38.7016</td>\n",
       "      <td>H</td>\n",
       "      <td>1</td>\n",
       "      <td>ILE358</td>\n",
       "      <td>0.0</td>\n",
       "      <td>BACKBONE</td>\n",
       "    </tr>\n",
       "    <tr>\n",
       "      <th>3</th>\n",
       "      <td>4</td>\n",
       "      <td>H3</td>\n",
       "      <td>14.5688</td>\n",
       "      <td>33.0864</td>\n",
       "      <td>38.9002</td>\n",
       "      <td>H</td>\n",
       "      <td>1</td>\n",
       "      <td>ILE358</td>\n",
       "      <td>0.0</td>\n",
       "      <td>BACKBONE</td>\n",
       "    </tr>\n",
       "    <tr>\n",
       "      <th>4</th>\n",
       "      <td>5</td>\n",
       "      <td>CA</td>\n",
       "      <td>13.2420</td>\n",
       "      <td>33.9462</td>\n",
       "      <td>40.2248</td>\n",
       "      <td>C.3</td>\n",
       "      <td>1</td>\n",
       "      <td>ILE358</td>\n",
       "      <td>0.0</td>\n",
       "      <td>BACKBONE</td>\n",
       "    </tr>\n",
       "  </tbody>\n",
       "</table>\n",
       "</div>"
      ],
      "text/plain": [
       "   atom_id atom_name        x        y        z atom_type  subst_id  \\\n",
       "0        1         N  14.4725  33.9701  39.3798       N.4         1   \n",
       "1        2        H1  15.2804  34.1248  39.9658         H         1   \n",
       "2        3        H2  14.4008  34.7151  38.7016         H         1   \n",
       "3        4        H3  14.5688  33.0864  38.9002         H         1   \n",
       "4        5        CA  13.2420  33.9462  40.2248       C.3         1   \n",
       "\n",
       "  subst_name  charge  backbone  \n",
       "0     ILE358     1.0  BACKBONE  \n",
       "1     ILE358     0.0  BACKBONE  \n",
       "2     ILE358     0.0  BACKBONE  \n",
       "3     ILE358     0.0  BACKBONE  \n",
       "4     ILE358     0.0  BACKBONE  "
      ]
     },
     "execution_count": 29,
     "metadata": {},
     "output_type": "execute_result"
    }
   ],
   "source": [
    "klifs.remote.coordinates.fetch(33, entity='protein').head()"
   ]
  },
  {
   "cell_type": "markdown",
   "metadata": {},
   "source": [
    "#### Pocket"
   ]
  },
  {
   "cell_type": "code",
   "execution_count": 30,
   "metadata": {},
   "outputs": [
    {
     "data": {
      "text/html": [
       "<div>\n",
       "<style scoped>\n",
       "    .dataframe tbody tr th:only-of-type {\n",
       "        vertical-align: middle;\n",
       "    }\n",
       "\n",
       "    .dataframe tbody tr th {\n",
       "        vertical-align: top;\n",
       "    }\n",
       "\n",
       "    .dataframe thead th {\n",
       "        text-align: right;\n",
       "    }\n",
       "</style>\n",
       "<table border=\"1\" class=\"dataframe\">\n",
       "  <thead>\n",
       "    <tr style=\"text-align: right;\">\n",
       "      <th></th>\n",
       "      <th>atom_id</th>\n",
       "      <th>atom_name</th>\n",
       "      <th>x</th>\n",
       "      <th>y</th>\n",
       "      <th>z</th>\n",
       "      <th>atom_type</th>\n",
       "      <th>subst_id</th>\n",
       "      <th>subst_name</th>\n",
       "      <th>charge</th>\n",
       "      <th>backbone</th>\n",
       "    </tr>\n",
       "  </thead>\n",
       "  <tbody>\n",
       "    <tr>\n",
       "      <th>0</th>\n",
       "      <td>1</td>\n",
       "      <td>N</td>\n",
       "      <td>7.2217</td>\n",
       "      <td>16.5654</td>\n",
       "      <td>51.5923</td>\n",
       "      <td>N.3</td>\n",
       "      <td>1</td>\n",
       "      <td>GLN367</td>\n",
       "      <td>0.0</td>\n",
       "      <td>BACKBONE</td>\n",
       "    </tr>\n",
       "    <tr>\n",
       "      <th>1</th>\n",
       "      <td>2</td>\n",
       "      <td>H</td>\n",
       "      <td>6.9393</td>\n",
       "      <td>17.3722</td>\n",
       "      <td>51.0544</td>\n",
       "      <td>H</td>\n",
       "      <td>1</td>\n",
       "      <td>GLN367</td>\n",
       "      <td>0.0</td>\n",
       "      <td>BACKBONE</td>\n",
       "    </tr>\n",
       "    <tr>\n",
       "      <th>2</th>\n",
       "      <td>3</td>\n",
       "      <td>CA</td>\n",
       "      <td>6.8224</td>\n",
       "      <td>15.2285</td>\n",
       "      <td>51.1651</td>\n",
       "      <td>C.3</td>\n",
       "      <td>1</td>\n",
       "      <td>GLN367</td>\n",
       "      <td>0.0</td>\n",
       "      <td>BACKBONE</td>\n",
       "    </tr>\n",
       "    <tr>\n",
       "      <th>3</th>\n",
       "      <td>4</td>\n",
       "      <td>HA</td>\n",
       "      <td>7.6298</td>\n",
       "      <td>14.5853</td>\n",
       "      <td>51.5151</td>\n",
       "      <td>H</td>\n",
       "      <td>1</td>\n",
       "      <td>GLN367</td>\n",
       "      <td>0.0</td>\n",
       "      <td>BACKBONE</td>\n",
       "    </tr>\n",
       "    <tr>\n",
       "      <th>4</th>\n",
       "      <td>5</td>\n",
       "      <td>C</td>\n",
       "      <td>6.7483</td>\n",
       "      <td>14.9679</td>\n",
       "      <td>49.6640</td>\n",
       "      <td>C.2</td>\n",
       "      <td>1</td>\n",
       "      <td>GLN367</td>\n",
       "      <td>0.0</td>\n",
       "      <td>BACKBONE</td>\n",
       "    </tr>\n",
       "  </tbody>\n",
       "</table>\n",
       "</div>"
      ],
      "text/plain": [
       "   atom_id atom_name       x        y        z atom_type  subst_id subst_name  \\\n",
       "0        1         N  7.2217  16.5654  51.5923       N.3         1     GLN367   \n",
       "1        2         H  6.9393  17.3722  51.0544         H         1     GLN367   \n",
       "2        3        CA  6.8224  15.2285  51.1651       C.3         1     GLN367   \n",
       "3        4        HA  7.6298  14.5853  51.5151         H         1     GLN367   \n",
       "4        5         C  6.7483  14.9679  49.6640       C.2         1     GLN367   \n",
       "\n",
       "   charge  backbone  \n",
       "0     0.0  BACKBONE  \n",
       "1     0.0  BACKBONE  \n",
       "2     0.0  BACKBONE  \n",
       "3     0.0  BACKBONE  \n",
       "4     0.0  BACKBONE  "
      ]
     },
     "execution_count": 30,
     "metadata": {},
     "output_type": "execute_result"
    }
   ],
   "source": [
    "klifs.remote.coordinates.fetch(33, entity='pocket').head()"
   ]
  },
  {
   "cell_type": "markdown",
   "metadata": {},
   "source": [
    "#### Water"
   ]
  },
  {
   "cell_type": "code",
   "execution_count": 31,
   "metadata": {},
   "outputs": [
    {
     "ename": "ValueError",
     "evalue": "Entity water is not available remotely but we could ask Albert to add this.",
     "output_type": "error",
     "traceback": [
      "\u001b[0;31m---------------------------------------------------------------------------\u001b[0m",
      "\u001b[0;31mValueError\u001b[0m                                Traceback (most recent call last)",
      "\u001b[0;32m<ipython-input-31-50a61a2205a6>\u001b[0m in \u001b[0;36m<module>\u001b[0;34m\u001b[0m\n\u001b[0;32m----> 1\u001b[0;31m \u001b[0mklifs\u001b[0m\u001b[0;34m.\u001b[0m\u001b[0mremote\u001b[0m\u001b[0;34m.\u001b[0m\u001b[0mcoordinates\u001b[0m\u001b[0;34m.\u001b[0m\u001b[0mfetch\u001b[0m\u001b[0;34m(\u001b[0m\u001b[0;36m33\u001b[0m\u001b[0;34m,\u001b[0m \u001b[0mentity\u001b[0m\u001b[0;34m=\u001b[0m\u001b[0;34m'water'\u001b[0m\u001b[0;34m)\u001b[0m\u001b[0;34m\u001b[0m\u001b[0;34m\u001b[0m\u001b[0m\n\u001b[0m",
      "\u001b[0;32m~/Documents/Work/GitHub/klifs_utils/klifs_utils/remote/coordinates.py\u001b[0m in \u001b[0;36mfetch\u001b[0;34m(structure_id, entity, input_format, output_format, compute2d)\u001b[0m\n\u001b[1;32m     42\u001b[0m     \u001b[0mtext\u001b[0m \u001b[0;34m=\u001b[0m \u001b[0m_fetch_text\u001b[0m\u001b[0;34m(\u001b[0m\u001b[0mstructure_id\u001b[0m\u001b[0;34m,\u001b[0m \u001b[0mentity\u001b[0m\u001b[0;34m,\u001b[0m \u001b[0minput_format\u001b[0m\u001b[0;34m)\u001b[0m\u001b[0;34m\u001b[0m\u001b[0;34m\u001b[0m\u001b[0m\n\u001b[1;32m     43\u001b[0m     \u001b[0;32mif\u001b[0m \u001b[0;32mnot\u001b[0m \u001b[0mtext\u001b[0m\u001b[0;34m:\u001b[0m  \u001b[0;31m# TODO Ask Albert why no remote water\u001b[0m\u001b[0;34m\u001b[0m\u001b[0;34m\u001b[0m\u001b[0m\n\u001b[0;32m---> 44\u001b[0;31m         \u001b[0;32mraise\u001b[0m \u001b[0mValueError\u001b[0m\u001b[0;34m(\u001b[0m\u001b[0;34mf'Entity {entity} is not available remotely but we could ask Albert to add this.'\u001b[0m\u001b[0;34m)\u001b[0m\u001b[0;34m\u001b[0m\u001b[0;34m\u001b[0m\u001b[0m\n\u001b[0m\u001b[1;32m     45\u001b[0m \u001b[0;34m\u001b[0m\u001b[0m\n\u001b[1;32m     46\u001b[0m     \u001b[0;31m# Return different output formats\u001b[0m\u001b[0;34m\u001b[0m\u001b[0;34m\u001b[0m\u001b[0;34m\u001b[0m\u001b[0m\n",
      "\u001b[0;31mValueError\u001b[0m: Entity water is not available remotely but we could ask Albert to add this."
     ]
    }
   ],
   "source": [
    "klifs.remote.coordinates.fetch(33, entity='water')"
   ]
  },
  {
   "cell_type": "markdown",
   "metadata": {},
   "source": [
    "## Local data"
   ]
  },
  {
   "cell_type": "markdown",
   "metadata": {},
   "source": [
    "Get your personal copy of the KLIFS dataset here: https://klifs.vu-compmedchem.nl/search.php. \n",
    "\n",
    "Set the path to the `KLIFS_download` folder:"
   ]
  },
  {
   "cell_type": "code",
   "execution_count": 32,
   "metadata": {},
   "outputs": [],
   "source": [
    "PATH_TO_KLIFS_DOWNLOAD = Path('../docs/data')"
   ]
  },
  {
   "cell_type": "markdown",
   "metadata": {},
   "source": [
    "### Initialize"
   ]
  },
  {
   "cell_type": "code",
   "execution_count": 33,
   "metadata": {},
   "outputs": [],
   "source": [
    "# Add test files and update paths\n",
    "klifs_overview_path = PATH_TO_KLIFS_DOWNLOAD / 'KLIFS_download' / 'overview.csv'\n",
    "klifs_export_path = PATH_TO_KLIFS_DOWNLOAD / 'KLIFS_download' / 'KLIFS_export.csv'"
   ]
  },
  {
   "cell_type": "code",
   "execution_count": 34,
   "metadata": {},
   "outputs": [
    {
     "data": {
      "text/html": [
       "<div>\n",
       "<style scoped>\n",
       "    .dataframe tbody tr th:only-of-type {\n",
       "        vertical-align: middle;\n",
       "    }\n",
       "\n",
       "    .dataframe tbody tr th {\n",
       "        vertical-align: top;\n",
       "    }\n",
       "\n",
       "    .dataframe thead th {\n",
       "        text-align: right;\n",
       "    }\n",
       "</style>\n",
       "<table border=\"1\" class=\"dataframe\">\n",
       "  <thead>\n",
       "    <tr style=\"text-align: right;\">\n",
       "      <th></th>\n",
       "      <th>species</th>\n",
       "      <th>kinase</th>\n",
       "      <th>pdb_id</th>\n",
       "      <th>alternate_model</th>\n",
       "      <th>chain</th>\n",
       "      <th>ligand_orthosteric_pdb_id</th>\n",
       "      <th>ligand_allosteric_pdb_id</th>\n",
       "      <th>rmsd1</th>\n",
       "      <th>rmsd2</th>\n",
       "      <th>qualityscore</th>\n",
       "      <th>...</th>\n",
       "      <th>bp_iv</th>\n",
       "      <th>bp_v</th>\n",
       "      <th>kinase_all</th>\n",
       "      <th>family</th>\n",
       "      <th>group</th>\n",
       "      <th>ligand_orthosteric_name</th>\n",
       "      <th>ligand_allosteric_name</th>\n",
       "      <th>dfg</th>\n",
       "      <th>ac_helix</th>\n",
       "      <th>filepath</th>\n",
       "    </tr>\n",
       "  </thead>\n",
       "  <tbody>\n",
       "    <tr>\n",
       "      <th>0</th>\n",
       "      <td>Human</td>\n",
       "      <td>BMX</td>\n",
       "      <td>3sxr</td>\n",
       "      <td>-</td>\n",
       "      <td>A</td>\n",
       "      <td>1N1</td>\n",
       "      <td>-</td>\n",
       "      <td>0.839</td>\n",
       "      <td>1.967</td>\n",
       "      <td>6.4</td>\n",
       "      <td>...</td>\n",
       "      <td>0</td>\n",
       "      <td>0</td>\n",
       "      <td>[BMX]</td>\n",
       "      <td>Tec</td>\n",
       "      <td>TK</td>\n",
       "      <td>N-(2-CHLORO-6-METHYLPHENYL)-2-({6-[4-(2-HYDROX...</td>\n",
       "      <td>-</td>\n",
       "      <td>out-like</td>\n",
       "      <td>in</td>\n",
       "      <td>HUMAN/BMX/3sxr_chainA</td>\n",
       "    </tr>\n",
       "    <tr>\n",
       "      <th>1</th>\n",
       "      <td>Human</td>\n",
       "      <td>BRAF</td>\n",
       "      <td>6uuo</td>\n",
       "      <td>-</td>\n",
       "      <td>A</td>\n",
       "      <td>QH1</td>\n",
       "      <td>-</td>\n",
       "      <td>0.806</td>\n",
       "      <td>2.028</td>\n",
       "      <td>5.2</td>\n",
       "      <td>...</td>\n",
       "      <td>0</td>\n",
       "      <td>0</td>\n",
       "      <td>[BRAF]</td>\n",
       "      <td>RAF</td>\n",
       "      <td>TKL</td>\n",
       "      <td>1-[4-{[1-(3-{[dihydroxy(propyl)-lambda~4~-sulf...</td>\n",
       "      <td>-</td>\n",
       "      <td>in</td>\n",
       "      <td>out-like</td>\n",
       "      <td>HUMAN/BRAF/6uuo_chainA</td>\n",
       "    </tr>\n",
       "  </tbody>\n",
       "</table>\n",
       "<p>2 rows × 35 columns</p>\n",
       "</div>"
      ],
      "text/plain": [
       "  species kinase pdb_id alternate_model chain ligand_orthosteric_pdb_id  \\\n",
       "0   Human    BMX   3sxr               -     A                       1N1   \n",
       "1   Human   BRAF   6uuo               -     A                       QH1   \n",
       "\n",
       "  ligand_allosteric_pdb_id  rmsd1  rmsd2  qualityscore  ... bp_iv  bp_v  \\\n",
       "0                        -  0.839  1.967           6.4  ...     0     0   \n",
       "1                        -  0.806  2.028           5.2  ...     0     0   \n",
       "\n",
       "   kinase_all  family group  \\\n",
       "0       [BMX]     Tec    TK   \n",
       "1      [BRAF]     RAF   TKL   \n",
       "\n",
       "                             ligand_orthosteric_name  ligand_allosteric_name  \\\n",
       "0  N-(2-CHLORO-6-METHYLPHENYL)-2-({6-[4-(2-HYDROX...                       -   \n",
       "1  1-[4-{[1-(3-{[dihydroxy(propyl)-lambda~4~-sulf...                       -   \n",
       "\n",
       "        dfg  ac_helix                filepath  \n",
       "0  out-like        in   HUMAN/BMX/3sxr_chainA  \n",
       "1        in  out-like  HUMAN/BRAF/6uuo_chainA  \n",
       "\n",
       "[2 rows x 35 columns]"
      ]
     },
     "execution_count": 34,
     "metadata": {},
     "output_type": "execute_result"
    }
   ],
   "source": [
    "klifs.local.initialize.from_files(\n",
    "    klifs_overview_path=klifs_overview_path,\n",
    "    klifs_export_path=klifs_export_path\n",
    ")"
   ]
  },
  {
   "cell_type": "code",
   "execution_count": 35,
   "metadata": {},
   "outputs": [
    {
     "data": {
      "text/html": [
       "<div>\n",
       "<style scoped>\n",
       "    .dataframe tbody tr th:only-of-type {\n",
       "        vertical-align: middle;\n",
       "    }\n",
       "\n",
       "    .dataframe tbody tr th {\n",
       "        vertical-align: top;\n",
       "    }\n",
       "\n",
       "    .dataframe thead th {\n",
       "        text-align: right;\n",
       "    }\n",
       "</style>\n",
       "<table border=\"1\" class=\"dataframe\">\n",
       "  <thead>\n",
       "    <tr style=\"text-align: right;\">\n",
       "      <th></th>\n",
       "      <th>species</th>\n",
       "      <th>kinase</th>\n",
       "      <th>pdb_id</th>\n",
       "      <th>alternate_model</th>\n",
       "      <th>chain</th>\n",
       "      <th>ligand_orthosteric_pdb_id</th>\n",
       "      <th>ligand_allosteric_pdb_id</th>\n",
       "      <th>rmsd1</th>\n",
       "      <th>rmsd2</th>\n",
       "      <th>qualityscore</th>\n",
       "      <th>...</th>\n",
       "      <th>bp_iv</th>\n",
       "      <th>bp_v</th>\n",
       "      <th>kinase_all</th>\n",
       "      <th>family</th>\n",
       "      <th>group</th>\n",
       "      <th>ligand_orthosteric_name</th>\n",
       "      <th>ligand_allosteric_name</th>\n",
       "      <th>dfg</th>\n",
       "      <th>ac_helix</th>\n",
       "      <th>filepath</th>\n",
       "    </tr>\n",
       "  </thead>\n",
       "  <tbody>\n",
       "    <tr>\n",
       "      <th>0</th>\n",
       "      <td>Human</td>\n",
       "      <td>BMX</td>\n",
       "      <td>3sxr</td>\n",
       "      <td>-</td>\n",
       "      <td>A</td>\n",
       "      <td>1N1</td>\n",
       "      <td>-</td>\n",
       "      <td>0.839</td>\n",
       "      <td>1.967</td>\n",
       "      <td>6.4</td>\n",
       "      <td>...</td>\n",
       "      <td>0</td>\n",
       "      <td>0</td>\n",
       "      <td>['BMX']</td>\n",
       "      <td>Tec</td>\n",
       "      <td>TK</td>\n",
       "      <td>N-(2-CHLORO-6-METHYLPHENYL)-2-({6-[4-(2-HYDROX...</td>\n",
       "      <td>-</td>\n",
       "      <td>out-like</td>\n",
       "      <td>in</td>\n",
       "      <td>HUMAN/BMX/3sxr_chainA</td>\n",
       "    </tr>\n",
       "    <tr>\n",
       "      <th>1</th>\n",
       "      <td>Human</td>\n",
       "      <td>BRAF</td>\n",
       "      <td>6uuo</td>\n",
       "      <td>-</td>\n",
       "      <td>A</td>\n",
       "      <td>QH1</td>\n",
       "      <td>-</td>\n",
       "      <td>0.806</td>\n",
       "      <td>2.028</td>\n",
       "      <td>5.2</td>\n",
       "      <td>...</td>\n",
       "      <td>0</td>\n",
       "      <td>0</td>\n",
       "      <td>['BRAF']</td>\n",
       "      <td>RAF</td>\n",
       "      <td>TKL</td>\n",
       "      <td>1-[4-{[1-(3-{[dihydroxy(propyl)-lambda~4~-sulf...</td>\n",
       "      <td>-</td>\n",
       "      <td>in</td>\n",
       "      <td>out-like</td>\n",
       "      <td>HUMAN/BRAF/6uuo_chainA</td>\n",
       "    </tr>\n",
       "  </tbody>\n",
       "</table>\n",
       "<p>2 rows × 35 columns</p>\n",
       "</div>"
      ],
      "text/plain": [
       "  species kinase pdb_id alternate_model chain ligand_orthosteric_pdb_id  \\\n",
       "0   Human    BMX   3sxr               -     A                       1N1   \n",
       "1   Human   BRAF   6uuo               -     A                       QH1   \n",
       "\n",
       "  ligand_allosteric_pdb_id  rmsd1  rmsd2  qualityscore  ... bp_iv  bp_v  \\\n",
       "0                        -  0.839  1.967           6.4  ...     0     0   \n",
       "1                        -  0.806  2.028           5.2  ...     0     0   \n",
       "\n",
       "   kinase_all  family group  \\\n",
       "0     ['BMX']     Tec    TK   \n",
       "1    ['BRAF']     RAF   TKL   \n",
       "\n",
       "                             ligand_orthosteric_name  ligand_allosteric_name  \\\n",
       "0  N-(2-CHLORO-6-METHYLPHENYL)-2-({6-[4-(2-HYDROX...                       -   \n",
       "1  1-[4-{[1-(3-{[dihydroxy(propyl)-lambda~4~-sulf...                       -   \n",
       "\n",
       "        dfg  ac_helix                filepath  \n",
       "0  out-like        in   HUMAN/BMX/3sxr_chainA  \n",
       "1        in  out-like  HUMAN/BRAF/6uuo_chainA  \n",
       "\n",
       "[2 rows x 35 columns]"
      ]
     },
     "execution_count": 35,
     "metadata": {},
     "output_type": "execute_result"
    }
   ],
   "source": [
    "klifs_metadata_path = Path(klifs_overview_path).parent / 'klifs_metadata.csv'\n",
    "klifs_metadata = pd.read_csv(klifs_metadata_path)\n",
    "klifs_metadata"
   ]
  },
  {
   "cell_type": "markdown",
   "metadata": {},
   "source": [
    "### Kinases"
   ]
  },
  {
   "cell_type": "code",
   "execution_count": 36,
   "metadata": {},
   "outputs": [
    {
     "data": {
      "text/plain": [
       "['TK', 'TKL']"
      ]
     },
     "execution_count": 36,
     "metadata": {},
     "output_type": "execute_result"
    }
   ],
   "source": [
    "klifs.local.kinases.kinase_groups(klifs_metadata)"
   ]
  },
  {
   "cell_type": "code",
   "execution_count": 37,
   "metadata": {},
   "outputs": [
    {
     "data": {
      "text/plain": [
       "['RAF']"
      ]
     },
     "execution_count": 37,
     "metadata": {},
     "output_type": "execute_result"
    }
   ],
   "source": [
    "klifs.local.kinases.kinase_families(klifs_metadata, kinase_group='TKL')"
   ]
  },
  {
   "cell_type": "code",
   "execution_count": 38,
   "metadata": {},
   "outputs": [
    {
     "data": {
      "text/plain": [
       "['Tec', 'RAF']"
      ]
     },
     "execution_count": 38,
     "metadata": {},
     "output_type": "execute_result"
    }
   ],
   "source": [
    "klifs.local.kinases.kinase_families(klifs_metadata)[:2]"
   ]
  },
  {
   "cell_type": "code",
   "execution_count": 39,
   "metadata": {},
   "outputs": [
    {
     "data": {
      "text/plain": [
       "2"
      ]
     },
     "execution_count": 39,
     "metadata": {},
     "output_type": "execute_result"
    }
   ],
   "source": [
    "len(klifs.local.kinases.kinase_families(klifs_metadata))"
   ]
  },
  {
   "cell_type": "code",
   "execution_count": 40,
   "metadata": {},
   "outputs": [
    {
     "data": {
      "text/html": [
       "<div>\n",
       "<style scoped>\n",
       "    .dataframe tbody tr th:only-of-type {\n",
       "        vertical-align: middle;\n",
       "    }\n",
       "\n",
       "    .dataframe tbody tr th {\n",
       "        vertical-align: top;\n",
       "    }\n",
       "\n",
       "    .dataframe thead th {\n",
       "        text-align: right;\n",
       "    }\n",
       "</style>\n",
       "<table border=\"1\" class=\"dataframe\">\n",
       "  <thead>\n",
       "    <tr style=\"text-align: right;\">\n",
       "      <th></th>\n",
       "      <th>kinase</th>\n",
       "      <th>species</th>\n",
       "    </tr>\n",
       "  </thead>\n",
       "  <tbody>\n",
       "    <tr>\n",
       "      <th>0</th>\n",
       "      <td>BMX</td>\n",
       "      <td>Human</td>\n",
       "    </tr>\n",
       "    <tr>\n",
       "      <th>1</th>\n",
       "      <td>BRAF</td>\n",
       "      <td>Human</td>\n",
       "    </tr>\n",
       "  </tbody>\n",
       "</table>\n",
       "</div>"
      ],
      "text/plain": [
       "  kinase species\n",
       "0    BMX   Human\n",
       "1   BRAF   Human"
      ]
     },
     "execution_count": 40,
     "metadata": {},
     "output_type": "execute_result"
    }
   ],
   "source": [
    "klifs.local.kinases.kinase_names(klifs_metadata).head()"
   ]
  },
  {
   "cell_type": "code",
   "execution_count": 41,
   "metadata": {},
   "outputs": [
    {
     "data": {
      "text/html": [
       "<div>\n",
       "<style scoped>\n",
       "    .dataframe tbody tr th:only-of-type {\n",
       "        vertical-align: middle;\n",
       "    }\n",
       "\n",
       "    .dataframe tbody tr th {\n",
       "        vertical-align: top;\n",
       "    }\n",
       "\n",
       "    .dataframe thead th {\n",
       "        text-align: right;\n",
       "    }\n",
       "</style>\n",
       "<table border=\"1\" class=\"dataframe\">\n",
       "  <thead>\n",
       "    <tr style=\"text-align: right;\">\n",
       "      <th></th>\n",
       "      <th>species</th>\n",
       "      <th>kinase</th>\n",
       "      <th>pdb_id</th>\n",
       "      <th>alternate_model</th>\n",
       "      <th>chain</th>\n",
       "      <th>ligand_orthosteric_pdb_id</th>\n",
       "      <th>ligand_allosteric_pdb_id</th>\n",
       "      <th>rmsd1</th>\n",
       "      <th>rmsd2</th>\n",
       "      <th>qualityscore</th>\n",
       "      <th>...</th>\n",
       "      <th>bp_iv</th>\n",
       "      <th>bp_v</th>\n",
       "      <th>kinase_all</th>\n",
       "      <th>family</th>\n",
       "      <th>group</th>\n",
       "      <th>ligand_orthosteric_name</th>\n",
       "      <th>ligand_allosteric_name</th>\n",
       "      <th>dfg</th>\n",
       "      <th>ac_helix</th>\n",
       "      <th>filepath</th>\n",
       "    </tr>\n",
       "  </thead>\n",
       "  <tbody>\n",
       "    <tr>\n",
       "      <th>0</th>\n",
       "      <td>Human</td>\n",
       "      <td>BMX</td>\n",
       "      <td>3sxr</td>\n",
       "      <td>-</td>\n",
       "      <td>A</td>\n",
       "      <td>1N1</td>\n",
       "      <td>-</td>\n",
       "      <td>0.839</td>\n",
       "      <td>1.967</td>\n",
       "      <td>6.4</td>\n",
       "      <td>...</td>\n",
       "      <td>0</td>\n",
       "      <td>0</td>\n",
       "      <td>['BMX']</td>\n",
       "      <td>Tec</td>\n",
       "      <td>TK</td>\n",
       "      <td>N-(2-CHLORO-6-METHYLPHENYL)-2-({6-[4-(2-HYDROX...</td>\n",
       "      <td>-</td>\n",
       "      <td>out-like</td>\n",
       "      <td>in</td>\n",
       "      <td>HUMAN/BMX/3sxr_chainA</td>\n",
       "    </tr>\n",
       "    <tr>\n",
       "      <th>1</th>\n",
       "      <td>Human</td>\n",
       "      <td>BRAF</td>\n",
       "      <td>6uuo</td>\n",
       "      <td>-</td>\n",
       "      <td>A</td>\n",
       "      <td>QH1</td>\n",
       "      <td>-</td>\n",
       "      <td>0.806</td>\n",
       "      <td>2.028</td>\n",
       "      <td>5.2</td>\n",
       "      <td>...</td>\n",
       "      <td>0</td>\n",
       "      <td>0</td>\n",
       "      <td>['BRAF']</td>\n",
       "      <td>RAF</td>\n",
       "      <td>TKL</td>\n",
       "      <td>1-[4-{[1-(3-{[dihydroxy(propyl)-lambda~4~-sulf...</td>\n",
       "      <td>-</td>\n",
       "      <td>in</td>\n",
       "      <td>out-like</td>\n",
       "      <td>HUMAN/BRAF/6uuo_chainA</td>\n",
       "    </tr>\n",
       "  </tbody>\n",
       "</table>\n",
       "<p>2 rows × 35 columns</p>\n",
       "</div>"
      ],
      "text/plain": [
       "  species kinase pdb_id alternate_model chain ligand_orthosteric_pdb_id  \\\n",
       "0   Human    BMX   3sxr               -     A                       1N1   \n",
       "1   Human   BRAF   6uuo               -     A                       QH1   \n",
       "\n",
       "  ligand_allosteric_pdb_id  rmsd1  rmsd2  qualityscore  ... bp_iv  bp_v  \\\n",
       "0                        -  0.839  1.967           6.4  ...     0     0   \n",
       "1                        -  0.806  2.028           5.2  ...     0     0   \n",
       "\n",
       "   kinase_all  family group  \\\n",
       "0     ['BMX']     Tec    TK   \n",
       "1    ['BRAF']     RAF   TKL   \n",
       "\n",
       "                             ligand_orthosteric_name  ligand_allosteric_name  \\\n",
       "0  N-(2-CHLORO-6-METHYLPHENYL)-2-({6-[4-(2-HYDROX...                       -   \n",
       "1  1-[4-{[1-(3-{[dihydroxy(propyl)-lambda~4~-sulf...                       -   \n",
       "\n",
       "        dfg  ac_helix                filepath  \n",
       "0  out-like        in   HUMAN/BMX/3sxr_chainA  \n",
       "1        in  out-like  HUMAN/BRAF/6uuo_chainA  \n",
       "\n",
       "[2 rows x 35 columns]"
      ]
     },
     "execution_count": 41,
     "metadata": {},
     "output_type": "execute_result"
    }
   ],
   "source": [
    "klifs_metadata.head()"
   ]
  },
  {
   "cell_type": "code",
   "execution_count": 42,
   "metadata": {},
   "outputs": [],
   "source": [
    "klifs.local.kinases.kinases_from_kinase_names(klifs_metadata, kinase_names='BRAF')"
   ]
  },
  {
   "cell_type": "code",
   "execution_count": 43,
   "metadata": {},
   "outputs": [],
   "source": [
    "klifs.local.kinases.kinases_from_kinase_ids(klifs_metadata, kinase_ids=[533, 531])"
   ]
  },
  {
   "cell_type": "markdown",
   "metadata": {},
   "source": [
    "### Ligands"
   ]
  },
  {
   "cell_type": "code",
   "execution_count": null,
   "metadata": {},
   "outputs": [],
   "source": []
  },
  {
   "cell_type": "markdown",
   "metadata": {},
   "source": [
    "### Interactions"
   ]
  },
  {
   "cell_type": "code",
   "execution_count": null,
   "metadata": {},
   "outputs": [],
   "source": []
  },
  {
   "cell_type": "markdown",
   "metadata": {},
   "source": [
    "### Structures"
   ]
  },
  {
   "cell_type": "code",
   "execution_count": null,
   "metadata": {},
   "outputs": [],
   "source": []
  },
  {
   "cell_type": "markdown",
   "metadata": {},
   "source": [
    "### Coordinates"
   ]
  },
  {
   "cell_type": "markdown",
   "metadata": {},
   "source": [
    "#### Example structure"
   ]
  },
  {
   "cell_type": "code",
   "execution_count": 44,
   "metadata": {},
   "outputs": [],
   "source": [
    "species = 'human'\n",
    "kinase_name = 'BRAF'\n",
    "pdb_id = '6uuo'\n",
    "alt = '-'\n",
    "chain = 'A'"
   ]
  },
  {
   "cell_type": "markdown",
   "metadata": {},
   "source": [
    "#### Complex"
   ]
  },
  {
   "cell_type": "code",
   "execution_count": 45,
   "metadata": {},
   "outputs": [
    {
     "data": {
      "text/plain": [
       "PosixPath('../docs/data/KLIFS_download/HUMAN/BRAF/6uuo_chainA/complex.mol2')"
      ]
     },
     "execution_count": 45,
     "metadata": {},
     "output_type": "execute_result"
    }
   ],
   "source": [
    "file_path = klifs.util.file_path(PATH_TO_KLIFS_DOWNLOAD, species, kinase_name, pdb_id, alt, chain, 'complex', 'mol2', True)\n",
    "file_path"
   ]
  },
  {
   "cell_type": "code",
   "execution_count": 46,
   "metadata": {},
   "outputs": [
    {
     "data": {
      "text/html": [
       "<div>\n",
       "<style scoped>\n",
       "    .dataframe tbody tr th:only-of-type {\n",
       "        vertical-align: middle;\n",
       "    }\n",
       "\n",
       "    .dataframe tbody tr th {\n",
       "        vertical-align: top;\n",
       "    }\n",
       "\n",
       "    .dataframe thead th {\n",
       "        text-align: right;\n",
       "    }\n",
       "</style>\n",
       "<table border=\"1\" class=\"dataframe\">\n",
       "  <thead>\n",
       "    <tr style=\"text-align: right;\">\n",
       "      <th></th>\n",
       "      <th>atom_id</th>\n",
       "      <th>atom_name</th>\n",
       "      <th>x</th>\n",
       "      <th>y</th>\n",
       "      <th>z</th>\n",
       "      <th>atom_type</th>\n",
       "      <th>subst_id</th>\n",
       "      <th>subst_name</th>\n",
       "      <th>charge</th>\n",
       "      <th>backbone</th>\n",
       "    </tr>\n",
       "  </thead>\n",
       "  <tbody>\n",
       "    <tr>\n",
       "      <th>0</th>\n",
       "      <td>1</td>\n",
       "      <td>O</td>\n",
       "      <td>-29.7742</td>\n",
       "      <td>11.3869</td>\n",
       "      <td>19.8824</td>\n",
       "      <td>O.3</td>\n",
       "      <td>1</td>\n",
       "      <td>HOH901</td>\n",
       "      <td>0.0</td>\n",
       "      <td>None</td>\n",
       "    </tr>\n",
       "    <tr>\n",
       "      <th>1</th>\n",
       "      <td>2</td>\n",
       "      <td>H1</td>\n",
       "      <td>-28.8142</td>\n",
       "      <td>11.3869</td>\n",
       "      <td>19.8824</td>\n",
       "      <td>H</td>\n",
       "      <td>1</td>\n",
       "      <td>HOH901</td>\n",
       "      <td>0.0</td>\n",
       "      <td>None</td>\n",
       "    </tr>\n",
       "  </tbody>\n",
       "</table>\n",
       "</div>"
      ],
      "text/plain": [
       "   atom_id atom_name        x        y        z atom_type  subst_id  \\\n",
       "0        1         O -29.7742  11.3869  19.8824       O.3         1   \n",
       "1        2        H1 -28.8142  11.3869  19.8824         H         1   \n",
       "\n",
       "  subst_name  charge backbone  \n",
       "0     HOH901     0.0     None  \n",
       "1     HOH901     0.0     None  "
      ]
     },
     "execution_count": 46,
     "metadata": {},
     "output_type": "execute_result"
    }
   ],
   "source": [
    "klifs.local.coordinates.load(file_path).head(2)"
   ]
  },
  {
   "cell_type": "markdown",
   "metadata": {},
   "source": [
    "#### Ligand"
   ]
  },
  {
   "cell_type": "code",
   "execution_count": 47,
   "metadata": {},
   "outputs": [
    {
     "data": {
      "text/plain": [
       "PosixPath('../docs/data/KLIFS_download/HUMAN/BRAF/6uuo_chainA/ligand.mol2')"
      ]
     },
     "execution_count": 47,
     "metadata": {},
     "output_type": "execute_result"
    }
   ],
   "source": [
    "file_path = klifs.util.file_path(PATH_TO_KLIFS_DOWNLOAD, species, kinase_name, pdb_id, alt, chain, 'ligand', 'mol2', True)\n",
    "file_path"
   ]
  },
  {
   "cell_type": "code",
   "execution_count": 48,
   "metadata": {},
   "outputs": [
    {
     "data": {
      "text/html": [
       "<div>\n",
       "<style scoped>\n",
       "    .dataframe tbody tr th:only-of-type {\n",
       "        vertical-align: middle;\n",
       "    }\n",
       "\n",
       "    .dataframe tbody tr th {\n",
       "        vertical-align: top;\n",
       "    }\n",
       "\n",
       "    .dataframe thead th {\n",
       "        text-align: right;\n",
       "    }\n",
       "</style>\n",
       "<table border=\"1\" class=\"dataframe\">\n",
       "  <thead>\n",
       "    <tr style=\"text-align: right;\">\n",
       "      <th></th>\n",
       "      <th>atom_id</th>\n",
       "      <th>atom_name</th>\n",
       "      <th>x</th>\n",
       "      <th>y</th>\n",
       "      <th>z</th>\n",
       "      <th>atom_type</th>\n",
       "      <th>subst_id</th>\n",
       "      <th>subst_name</th>\n",
       "      <th>charge</th>\n",
       "    </tr>\n",
       "  </thead>\n",
       "  <tbody>\n",
       "    <tr>\n",
       "      <th>0</th>\n",
       "      <td>1</td>\n",
       "      <td>C11</td>\n",
       "      <td>3.5395</td>\n",
       "      <td>20.5508</td>\n",
       "      <td>39.1755</td>\n",
       "      <td>C.ar</td>\n",
       "      <td>1</td>\n",
       "      <td>QH1</td>\n",
       "      <td>-0.0230</td>\n",
       "    </tr>\n",
       "    <tr>\n",
       "      <th>1</th>\n",
       "      <td>2</td>\n",
       "      <td>C13</td>\n",
       "      <td>2.1865</td>\n",
       "      <td>20.1689</td>\n",
       "      <td>41.3174</td>\n",
       "      <td>C.2</td>\n",
       "      <td>1</td>\n",
       "      <td>QH1</td>\n",
       "      <td>-0.3016</td>\n",
       "    </tr>\n",
       "  </tbody>\n",
       "</table>\n",
       "</div>"
      ],
      "text/plain": [
       "   atom_id atom_name       x        y        z atom_type  subst_id subst_name  \\\n",
       "0        1       C11  3.5395  20.5508  39.1755      C.ar         1        QH1   \n",
       "1        2       C13  2.1865  20.1689  41.3174       C.2         1        QH1   \n",
       "\n",
       "   charge  \n",
       "0 -0.0230  \n",
       "1 -0.3016  "
      ]
     },
     "execution_count": 48,
     "metadata": {},
     "output_type": "execute_result"
    }
   ],
   "source": [
    "klifs.local.coordinates.load(file_path).head(2)"
   ]
  },
  {
   "cell_type": "code",
   "execution_count": 49,
   "metadata": {},
   "outputs": [
    {
     "data": {
      "image/png": "[encoded data removed]",
      "text/plain": [
       "<rdkit.Chem.rdchem.Mol at 0x7f04f1f9f670>"
      ]
     },
     "execution_count": 49,
     "metadata": {},
     "output_type": "execute_result"
    }
   ],
   "source": [
    "klifs.local.coordinates.load(file_path, 'rdkit')"
   ]
  },
  {
   "cell_type": "markdown",
   "metadata": {},
   "source": [
    "#### Protein"
   ]
  },
  {
   "cell_type": "code",
   "execution_count": 50,
   "metadata": {},
   "outputs": [
    {
     "data": {
      "text/plain": [
       "PosixPath('../docs/data/KLIFS_download/HUMAN/BRAF/6uuo_chainA/protein.mol2')"
      ]
     },
     "execution_count": 50,
     "metadata": {},
     "output_type": "execute_result"
    }
   ],
   "source": [
    "file_path = klifs.util.file_path(PATH_TO_KLIFS_DOWNLOAD, species, kinase_name, pdb_id, alt, chain, 'protein', 'mol2', True)\n",
    "file_path"
   ]
  },
  {
   "cell_type": "code",
   "execution_count": 51,
   "metadata": {},
   "outputs": [
    {
     "data": {
      "text/html": [
       "<div>\n",
       "<style scoped>\n",
       "    .dataframe tbody tr th:only-of-type {\n",
       "        vertical-align: middle;\n",
       "    }\n",
       "\n",
       "    .dataframe tbody tr th {\n",
       "        vertical-align: top;\n",
       "    }\n",
       "\n",
       "    .dataframe thead th {\n",
       "        text-align: right;\n",
       "    }\n",
       "</style>\n",
       "<table border=\"1\" class=\"dataframe\">\n",
       "  <thead>\n",
       "    <tr style=\"text-align: right;\">\n",
       "      <th></th>\n",
       "      <th>atom_id</th>\n",
       "      <th>atom_name</th>\n",
       "      <th>x</th>\n",
       "      <th>y</th>\n",
       "      <th>z</th>\n",
       "      <th>atom_type</th>\n",
       "      <th>subst_id</th>\n",
       "      <th>subst_name</th>\n",
       "      <th>charge</th>\n",
       "      <th>backbone</th>\n",
       "    </tr>\n",
       "  </thead>\n",
       "  <tbody>\n",
       "    <tr>\n",
       "      <th>0</th>\n",
       "      <td>1</td>\n",
       "      <td>N</td>\n",
       "      <td>10.5459</td>\n",
       "      <td>36.4276</td>\n",
       "      <td>36.2952</td>\n",
       "      <td>N.4</td>\n",
       "      <td>1</td>\n",
       "      <td>TRP450</td>\n",
       "      <td>1.0</td>\n",
       "      <td>BACKBONE</td>\n",
       "    </tr>\n",
       "    <tr>\n",
       "      <th>1</th>\n",
       "      <td>2</td>\n",
       "      <td>H1</td>\n",
       "      <td>11.3045</td>\n",
       "      <td>36.9642</td>\n",
       "      <td>36.6910</td>\n",
       "      <td>H</td>\n",
       "      <td>1</td>\n",
       "      <td>TRP450</td>\n",
       "      <td>0.0</td>\n",
       "      <td>BACKBONE</td>\n",
       "    </tr>\n",
       "  </tbody>\n",
       "</table>\n",
       "</div>"
      ],
      "text/plain": [
       "   atom_id atom_name        x        y        z atom_type  subst_id  \\\n",
       "0        1         N  10.5459  36.4276  36.2952       N.4         1   \n",
       "1        2        H1  11.3045  36.9642  36.6910         H         1   \n",
       "\n",
       "  subst_name  charge  backbone  \n",
       "0     TRP450     1.0  BACKBONE  \n",
       "1     TRP450     0.0  BACKBONE  "
      ]
     },
     "execution_count": 51,
     "metadata": {},
     "output_type": "execute_result"
    }
   ],
   "source": [
    "klifs.local.coordinates.load(file_path).head(2)"
   ]
  },
  {
   "cell_type": "markdown",
   "metadata": {},
   "source": [
    "#### Pocket"
   ]
  },
  {
   "cell_type": "code",
   "execution_count": 52,
   "metadata": {},
   "outputs": [
    {
     "data": {
      "text/plain": [
       "PosixPath('../docs/data/KLIFS_download/HUMAN/BRAF/6uuo_chainA/pocket.mol2')"
      ]
     },
     "execution_count": 52,
     "metadata": {},
     "output_type": "execute_result"
    }
   ],
   "source": [
    "file_path = klifs.util.file_path(PATH_TO_KLIFS_DOWNLOAD, species, kinase_name, pdb_id, alt, chain, 'pocket', 'mol2', True)\n",
    "file_path"
   ]
  },
  {
   "cell_type": "code",
   "execution_count": 53,
   "metadata": {},
   "outputs": [
    {
     "data": {
      "text/html": [
       "<div>\n",
       "<style scoped>\n",
       "    .dataframe tbody tr th:only-of-type {\n",
       "        vertical-align: middle;\n",
       "    }\n",
       "\n",
       "    .dataframe tbody tr th {\n",
       "        vertical-align: top;\n",
       "    }\n",
       "\n",
       "    .dataframe thead th {\n",
       "        text-align: right;\n",
       "    }\n",
       "</style>\n",
       "<table border=\"1\" class=\"dataframe\">\n",
       "  <thead>\n",
       "    <tr style=\"text-align: right;\">\n",
       "      <th></th>\n",
       "      <th>atom_id</th>\n",
       "      <th>atom_name</th>\n",
       "      <th>x</th>\n",
       "      <th>y</th>\n",
       "      <th>z</th>\n",
       "      <th>atom_type</th>\n",
       "      <th>subst_id</th>\n",
       "      <th>subst_name</th>\n",
       "      <th>charge</th>\n",
       "      <th>backbone</th>\n",
       "    </tr>\n",
       "  </thead>\n",
       "  <tbody>\n",
       "    <tr>\n",
       "      <th>0</th>\n",
       "      <td>1</td>\n",
       "      <td>N</td>\n",
       "      <td>9.0135</td>\n",
       "      <td>18.2386</td>\n",
       "      <td>51.8602</td>\n",
       "      <td>N.3</td>\n",
       "      <td>1</td>\n",
       "      <td>GLN461</td>\n",
       "      <td>0.0</td>\n",
       "      <td>BACKBONE</td>\n",
       "    </tr>\n",
       "    <tr>\n",
       "      <th>1</th>\n",
       "      <td>2</td>\n",
       "      <td>H</td>\n",
       "      <td>8.2695</td>\n",
       "      <td>18.7862</td>\n",
       "      <td>52.2683</td>\n",
       "      <td>H</td>\n",
       "      <td>1</td>\n",
       "      <td>GLN461</td>\n",
       "      <td>0.0</td>\n",
       "      <td>BACKBONE</td>\n",
       "    </tr>\n",
       "  </tbody>\n",
       "</table>\n",
       "</div>"
      ],
      "text/plain": [
       "   atom_id atom_name       x        y        z atom_type  subst_id subst_name  \\\n",
       "0        1         N  9.0135  18.2386  51.8602       N.3         1     GLN461   \n",
       "1        2         H  8.2695  18.7862  52.2683         H         1     GLN461   \n",
       "\n",
       "   charge  backbone  \n",
       "0     0.0  BACKBONE  \n",
       "1     0.0  BACKBONE  "
      ]
     },
     "execution_count": 53,
     "metadata": {},
     "output_type": "execute_result"
    }
   ],
   "source": [
    "klifs.local.coordinates.load(file_path).head(2)"
   ]
  },
  {
   "cell_type": "markdown",
   "metadata": {},
   "source": [
    "#### Water"
   ]
  },
  {
   "cell_type": "code",
   "execution_count": 54,
   "metadata": {},
   "outputs": [
    {
     "data": {
      "text/plain": [
       "PosixPath('../docs/data/KLIFS_download/HUMAN/BRAF/6uuo_chainA/water.mol2')"
      ]
     },
     "execution_count": 54,
     "metadata": {},
     "output_type": "execute_result"
    }
   ],
   "source": [
    "file_path = klifs.util.file_path(PATH_TO_KLIFS_DOWNLOAD, species, kinase_name, pdb_id, alt, chain, 'water', 'mol2', True)\n",
    "file_path"
   ]
  },
  {
   "cell_type": "code",
   "execution_count": 55,
   "metadata": {},
   "outputs": [
    {
     "data": {
      "text/html": [
       "<div>\n",
       "<style scoped>\n",
       "    .dataframe tbody tr th:only-of-type {\n",
       "        vertical-align: middle;\n",
       "    }\n",
       "\n",
       "    .dataframe tbody tr th {\n",
       "        vertical-align: top;\n",
       "    }\n",
       "\n",
       "    .dataframe thead th {\n",
       "        text-align: right;\n",
       "    }\n",
       "</style>\n",
       "<table border=\"1\" class=\"dataframe\">\n",
       "  <thead>\n",
       "    <tr style=\"text-align: right;\">\n",
       "      <th></th>\n",
       "      <th>atom_id</th>\n",
       "      <th>atom_name</th>\n",
       "      <th>x</th>\n",
       "      <th>y</th>\n",
       "      <th>z</th>\n",
       "      <th>atom_type</th>\n",
       "      <th>subst_id</th>\n",
       "      <th>subst_name</th>\n",
       "      <th>charge</th>\n",
       "    </tr>\n",
       "  </thead>\n",
       "  <tbody>\n",
       "    <tr>\n",
       "      <th>0</th>\n",
       "      <td>1</td>\n",
       "      <td>O</td>\n",
       "      <td>-29.7742</td>\n",
       "      <td>11.3869</td>\n",
       "      <td>19.8824</td>\n",
       "      <td>O.3</td>\n",
       "      <td>1</td>\n",
       "      <td>HOH</td>\n",
       "      <td>0.0</td>\n",
       "    </tr>\n",
       "    <tr>\n",
       "      <th>1</th>\n",
       "      <td>2</td>\n",
       "      <td>H1</td>\n",
       "      <td>-28.8142</td>\n",
       "      <td>11.3869</td>\n",
       "      <td>19.8824</td>\n",
       "      <td>H</td>\n",
       "      <td>1</td>\n",
       "      <td>HOH</td>\n",
       "      <td>0.0</td>\n",
       "    </tr>\n",
       "  </tbody>\n",
       "</table>\n",
       "</div>"
      ],
      "text/plain": [
       "   atom_id atom_name        x        y        z atom_type  subst_id  \\\n",
       "0        1         O -29.7742  11.3869  19.8824       O.3         1   \n",
       "1        2        H1 -28.8142  11.3869  19.8824         H         1   \n",
       "\n",
       "  subst_name  charge  \n",
       "0        HOH     0.0  \n",
       "1        HOH     0.0  "
      ]
     },
     "execution_count": 55,
     "metadata": {},
     "output_type": "execute_result"
    }
   ],
   "source": [
    "klifs.local.coordinates.load(file_path).head(2)"
   ]
  }
 ],
 "metadata": {
  "kernelspec": {
   "display_name": "kissim",
   "language": "python",
   "name": "kissim"
  },
  "language_info": {
   "codemirror_mode": {
    "name": "ipython",
    "version": 3
   },
   "file_extension": ".py",
   "mimetype": "text/x-python",
   "name": "python",
   "nbconvert_exporter": "python",
   "pygments_lexer": "ipython3",
   "version": "3.6.11"
  }
 },
 "nbformat": 4,
 "nbformat_minor": 4
}
